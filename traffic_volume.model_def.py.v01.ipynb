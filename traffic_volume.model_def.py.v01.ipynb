{
 "cells": [
  {
   "cell_type": "markdown",
   "metadata": {},
   "source": [
    "# __Traffic Volume Prediction__\n",
    "<h2 align=\"center\"><b>Advanced Data Science Capstone Poject by</b></h2>\n",
    "<h2 align=\"center\"><b>IBM / Coursera</b></h1>\n",
    "<h2 align=center>Vasilis Kokkinos (September 2019)</h2>"
   ]
  },
  {
   "cell_type": "markdown",
   "metadata": {},
   "source": [
    " ## Introduction / Business Problem"
   ]
  },
  {
   "cell_type": "markdown",
   "metadata": {},
   "source": [
    "USE CASE: Predictive model of traffic volume. It can be used as template for similar situations.\n",
    "\n",
    "DATA SET: Metro Interstate Traffic Volume Data Set\n",
    "Hourly Interstate 94 Westbound traffic volume for MN DoT ATR station 301, roughly midway between Minneapolis and St Paul, MN. Hourly weather features and holidays included for impacts on traffic volume.\n",
    "\n",
    "Source: https://archive.ics.uci.edu/ml/datasets/Metro+Interstate+Traffic+Volume\n",
    "\n"
   ]
  },
  {
   "cell_type": "markdown",
   "metadata": {},
   "source": [
    "### __Attribute Information:__\n",
    "\n",
    "__holiday:__ Categorical US National holidays plus regional holiday, Minnesota State Fair\n",
    "\n",
    "__temp:__ Numeric Average temp in kelvin\n",
    "\n",
    "__rain_1h:__ Numeric Amount in mm of rain that occurred in the hour\n",
    "\n",
    "__snow_1h:__ Numeric Amount in mm of snow that occurred in the hour\n",
    "\n",
    "__clouds_all:__ Numeric Percentage of cloud cover\n",
    "\n",
    "__weather_main:__ Categorical Short textual description of the current weather\n",
    "\n",
    "__weather_description:__ Categorical Longer textual description of the current weather\n",
    "\n",
    "__date_time:__ DateTime Hour of the data collected in local CST time\n",
    "\n",
    "__traffic_volume:__ Numeric Hourly I-94 ATR 301 reported westbound traffic volume"
   ]
  },
  {
   "cell_type": "markdown",
   "metadata": {},
   "source": [
    "------------------------------------------------------------------------------------------------------"
   ]
  },
  {
   "cell_type": "markdown",
   "metadata": {},
   "source": [
    "#### __Feature Engineering__ was performed in a previous step in the notebook __traffic_volume.feature_eng.py.v01.ipynb__\n",
    "\n",
    "In that step:\n",
    "* the 'date_time' feature was broken down to three new features 'month', 'day_of_week', 'hour_of_day'\n",
    "* categorical string features were transformed to indexes\n",
    "\n",
    "The resulting data set was saved in _parquet_ format in __traffic_volume_feature_eng_df.parquet__\n",
    "    \n",
    "This notebook, is the __Model Definition__ step"
   ]
  },
  {
   "cell_type": "markdown",
   "metadata": {},
   "source": [
    "--------------------------------------------------------------------------------------------"
   ]
  },
  {
   "cell_type": "markdown",
   "metadata": {},
   "source": [
    "Import necessary packages, initialize Apache Spark session, and add supporting functions"
   ]
  },
  {
   "cell_type": "code",
   "execution_count": 1,
   "metadata": {},
   "outputs": [],
   "source": [
    "from pyspark import SparkContext\n",
    "from pyspark.sql import SQLContext\n",
    "from pyspark.sql import SparkSession\n",
    "from pyspark.sql import functions as F\n",
    "\n",
    "import numpy as np\n",
    "\n",
    "import matplotlib.pyplot as plt\n",
    "%matplotlib inline"
   ]
  },
  {
   "cell_type": "code",
   "execution_count": 2,
   "metadata": {},
   "outputs": [
    {
     "data": {
      "text/html": [
       "\n",
       "            <div>\n",
       "                <p><b>SparkSession - in-memory</b></p>\n",
       "                \n",
       "        <div>\n",
       "            <p><b>SparkContext</b></p>\n",
       "\n",
       "            <p><a href=\"http://192.168.44.1:4040\">Spark UI</a></p>\n",
       "\n",
       "            <dl>\n",
       "              <dt>Version</dt>\n",
       "                <dd><code>v2.4.4</code></dd>\n",
       "              <dt>Master</dt>\n",
       "                <dd><code>local[*]</code></dd>\n",
       "              <dt>AppName</dt>\n",
       "                <dd><code>Traffic Volume Prediction</code></dd>\n",
       "            </dl>\n",
       "        </div>\n",
       "        \n",
       "            </div>\n",
       "        "
      ],
      "text/plain": [
       "<pyspark.sql.session.SparkSession at 0x1c67abb3948>"
      ]
     },
     "execution_count": 2,
     "metadata": {},
     "output_type": "execute_result"
    }
   ],
   "source": [
    "spark = SparkSession.builder.appName('Traffic Volume Prediction').getOrCreate()\n",
    "\n",
    "# Create an sql context so that we can query data files in sql like syntax\n",
    "sqlContext = SQLContext(spark)\n",
    "spark"
   ]
  },
  {
   "cell_type": "markdown",
   "metadata": {},
   "source": [
    "#### __Read in the data set__"
   ]
  },
  {
   "cell_type": "code",
   "execution_count": 3,
   "metadata": {},
   "outputs": [
    {
     "name": "stdout",
     "output_type": "stream",
     "text": [
      "root\n",
      " |-- temp: double (nullable = true)\n",
      " |-- rain_1h: double (nullable = true)\n",
      " |-- snow_1h: double (nullable = true)\n",
      " |-- clouds_all: integer (nullable = true)\n",
      " |-- traffic_volume: integer (nullable = true)\n",
      " |-- month: integer (nullable = true)\n",
      " |-- day_of_week: integer (nullable = true)\n",
      " |-- hour_of_day: integer (nullable = true)\n",
      " |-- holidayIndex: integer (nullable = true)\n",
      " |-- weatherMainIndex: integer (nullable = true)\n",
      " |-- weatherDescIndex: integer (nullable = true)\n",
      "\n"
     ]
    }
   ],
   "source": [
    "df = spark.read.parquet('traffic_volume_feature_eng_df.parquet')\n",
    "\n",
    "df.createOrReplaceTempView('df')\n",
    "df.printSchema()"
   ]
  },
  {
   "cell_type": "markdown",
   "metadata": {},
   "source": [
    "## Basic data set checks"
   ]
  },
  {
   "cell_type": "code",
   "execution_count": 4,
   "metadata": {},
   "outputs": [
    {
     "name": "stdout",
     "output_type": "stream",
     "text": [
      "+------+-------+-------+----------+--------------+-----+-----------+-----------+------------+----------------+----------------+\n",
      "|temp  |rain_1h|snow_1h|clouds_all|traffic_volume|month|day_of_week|hour_of_day|holidayIndex|weatherMainIndex|weatherDescIndex|\n",
      "+------+-------+-------+----------+--------------+-----+-----------+-----------+------------+----------------+----------------+\n",
      "|280.62|0.0    |0.0    |96        |432           |10   |6          |3          |0           |6               |10              |\n",
      "|279.24|0.0    |0.0    |1         |5074          |11   |5          |18         |0           |1               |0               |\n",
      "|284.82|0.0    |0.0    |75        |3083          |11   |4          |18         |0           |0               |2               |\n",
      "|270.81|0.0    |0.0    |90        |2131          |12   |1          |20         |0           |4               |16              |\n",
      "|269.47|0.0    |0.0    |20        |5113          |12   |5          |9          |0           |0               |6               |\n",
      "|260.19|0.0    |0.0    |1         |394           |12   |6          |4          |0           |1               |0               |\n",
      "|260.5 |0.0    |0.0    |75        |2440          |12   |1          |7          |0           |0               |2               |\n",
      "|256.78|0.0    |0.0    |75        |1139          |12   |3          |23         |0           |0               |2               |\n",
      "|252.84|0.0    |0.0    |40        |4417          |1    |3          |9          |0           |5               |9               |\n",
      "|268.44|0.0    |0.0    |90        |306           |1    |7          |3          |0           |4               |12              |\n",
      "+------+-------+-------+----------+--------------+-----+-----------+-----------+------------+----------------+----------------+\n",
      "only showing top 10 rows\n",
      "\n"
     ]
    }
   ],
   "source": [
    "df.show(10, truncate=False)"
   ]
  },
  {
   "cell_type": "code",
   "execution_count": 5,
   "metadata": {},
   "outputs": [
    {
     "name": "stdout",
     "output_type": "stream",
     "text": [
      "Number of rows in the dataframe: 40569\n"
     ]
    }
   ],
   "source": [
    "print('Number of rows in the dataframe: {}'.format(df.count()))"
   ]
  },
  {
   "cell_type": "markdown",
   "metadata": {},
   "source": [
    "#### Create a __VectoAssembler__ object, that will create a column __'features'__ with the values of all the columns except for the target column __'traffic_volume'__"
   ]
  },
  {
   "cell_type": "code",
   "execution_count": 6,
   "metadata": {},
   "outputs": [],
   "source": [
    "from pyspark.ml.feature import VectorAssembler"
   ]
  },
  {
   "cell_type": "code",
   "execution_count": 7,
   "metadata": {},
   "outputs": [],
   "source": [
    "vectorAssembler = VectorAssembler(inputCols=['temp', 'rain_1h', 'snow_1h', 'clouds_all', 'month', 'day_of_week', \\\n",
    "                                             'hour_of_day', 'holidayIndex', 'weatherMainIndex', 'weatherDescIndex'], \\\n",
    "                                  outputCol='features')"
   ]
  },
  {
   "cell_type": "markdown",
   "metadata": {},
   "source": [
    "#### Create a __MinMaxScaler__ object that will create another __Vector__ column, __'features_norm'__ that will be the normalized version of the 'features' column"
   ]
  },
  {
   "cell_type": "code",
   "execution_count": 8,
   "metadata": {},
   "outputs": [],
   "source": [
    "from pyspark.ml.feature import MinMaxScaler"
   ]
  },
  {
   "cell_type": "code",
   "execution_count": 9,
   "metadata": {},
   "outputs": [],
   "source": [
    "minMaxScaler = MinMaxScaler(inputCol='features', outputCol='features_norm')"
   ]
  },
  {
   "cell_type": "markdown",
   "metadata": {},
   "source": [
    "#### Let's create a __Pipeline__ with the vectorAssembler and the standardScaler objects\n",
    "This initial PIpeline will be used only to get the correlation matrix of the features."
   ]
  },
  {
   "cell_type": "code",
   "execution_count": 10,
   "metadata": {},
   "outputs": [],
   "source": [
    "from pyspark.ml import Pipeline"
   ]
  },
  {
   "cell_type": "code",
   "execution_count": 11,
   "metadata": {},
   "outputs": [
    {
     "name": "stdout",
     "output_type": "stream",
     "text": [
      "root\n",
      " |-- temp: double (nullable = true)\n",
      " |-- rain_1h: double (nullable = true)\n",
      " |-- snow_1h: double (nullable = true)\n",
      " |-- clouds_all: integer (nullable = true)\n",
      " |-- traffic_volume: integer (nullable = true)\n",
      " |-- month: integer (nullable = true)\n",
      " |-- day_of_week: integer (nullable = true)\n",
      " |-- hour_of_day: integer (nullable = true)\n",
      " |-- holidayIndex: integer (nullable = true)\n",
      " |-- weatherMainIndex: integer (nullable = true)\n",
      " |-- weatherDescIndex: integer (nullable = true)\n",
      " |-- features: vector (nullable = true)\n",
      " |-- features_norm: vector (nullable = true)\n",
      "\n"
     ]
    }
   ],
   "source": [
    "pipeline = Pipeline(stages=[vectorAssembler, minMaxScaler])\n",
    "df = pipeline.fit(df).transform(df)\n",
    "\n",
    "df.printSchema()"
   ]
  },
  {
   "cell_type": "code",
   "execution_count": 12,
   "metadata": {},
   "outputs": [
    {
     "name": "stdout",
     "output_type": "stream",
     "text": [
      "+------------------------------------------------+-----------------------------------------------------------------------------------------------------------------------+\n",
      "|features                                        |features_norm                                                                                                          |\n",
      "+------------------------------------------------+-----------------------------------------------------------------------------------------------------------------------+\n",
      "|[280.62,0.0,0.0,96.0,10.0,6.0,3.0,0.0,6.0,10.0] |[0.5583383323335335,0.0,0.0,0.96,0.8181818181818182,0.8333333333333334,0.13043478260869565,0.0,0.6,0.30303030303030304]|\n",
      "|[279.24,0.0,0.0,1.0,11.0,5.0,18.0,0.0,1.0,0.0]  |[0.5376424715056991,0.0,0.0,0.01,0.9090909090909091,0.6666666666666666,0.782608695652174,0.0,0.1,0.0]                  |\n",
      "|[284.82,0.0,0.0,75.0,11.0,4.0,18.0,0.0,0.0,2.0] |[0.6213257348530294,0.0,0.0,0.75,0.9090909090909091,0.5,0.782608695652174,0.0,0.0,0.06060606060606061]                 |\n",
      "|[270.81,0.0,0.0,90.0,12.0,1.0,20.0,0.0,4.0,16.0]|[0.41121775644871045,0.0,0.0,0.9,1.0,0.0,0.8695652173913043,0.0,0.4,0.48484848484848486]                               |\n",
      "|[269.47,0.0,0.0,20.0,12.0,5.0,9.0,0.0,0.0,6.0]  |[0.3911217756448716,0.0,0.0,0.2,1.0,0.6666666666666666,0.391304347826087,0.0,0.0,0.18181818181818182]                  |\n",
      "+------------------------------------------------+-----------------------------------------------------------------------------------------------------------------------+\n",
      "only showing top 5 rows\n",
      "\n"
     ]
    }
   ],
   "source": [
    "df.select('features', 'features_norm').show(5, truncate=False)"
   ]
  },
  {
   "cell_type": "markdown",
   "metadata": {},
   "source": [
    "#### Let's now normalize all the colums\n",
    "\n",
    "New normalized features will be created (for each existing feature) that will be used in the non machine learning model. The names of the new fields will have the suffix ___Norm__\n",
    "\n",
    "Source: https://stackoverflow.com/questions/40337744/scalenormalise-a-column-in-spark-dataframe-pyspark"
   ]
  },
  {
   "cell_type": "code",
   "execution_count": 13,
   "metadata": {},
   "outputs": [],
   "source": [
    "from pyspark.sql.functions import udf\n",
    "from pyspark.sql.types import DoubleType"
   ]
  },
  {
   "cell_type": "code",
   "execution_count": 14,
   "metadata": {},
   "outputs": [],
   "source": [
    "columns = ['temp', 'rain_1h', 'snow_1h', 'clouds_all', 'traffic_volume', 'month', 'day_of_week', \\\n",
    "           'hour_of_day', 'holidayIndex', 'weatherMainIndex', 'weatherDescIndex']"
   ]
  },
  {
   "cell_type": "code",
   "execution_count": 15,
   "metadata": {},
   "outputs": [],
   "source": [
    "# UDF for converting column type from vector to double type\n",
    "unlist = udf(lambda x: round(float(list(x)[0]), 7), DoubleType())\n",
    "# Iterating over columns to be scaled\n",
    "for column in columns:\n",
    "    # VectorAssembler Transformation - Converting column to vector type\n",
    "    assembler = VectorAssembler(inputCols=[column],outputCol=column+\"_Vect\")\n",
    "    # MinMaxScaler Transformation\n",
    "    scaler = MinMaxScaler(inputCol=column+\"_Vect\", outputCol=column+\"_Norm\")\n",
    "    # Pipeline of VectorAssembler and MinMaxScaler\n",
    "    pipeline = Pipeline(stages=[assembler, scaler])\n",
    "    # Fitting pipeline on dataframe\n",
    "    df = pipeline.fit(df).transform(df).withColumn(column+\"_Norm\", unlist(column+\"_Norm\")).drop(column+\"_Vect\")\n",
    "df.createOrReplaceTempView('df')"
   ]
  },
  {
   "cell_type": "code",
   "execution_count": 16,
   "metadata": {},
   "outputs": [
    {
     "name": "stdout",
     "output_type": "stream",
     "text": [
      "root\n",
      " |-- temp: double (nullable = true)\n",
      " |-- rain_1h: double (nullable = true)\n",
      " |-- snow_1h: double (nullable = true)\n",
      " |-- clouds_all: integer (nullable = true)\n",
      " |-- traffic_volume: integer (nullable = true)\n",
      " |-- month: integer (nullable = true)\n",
      " |-- day_of_week: integer (nullable = true)\n",
      " |-- hour_of_day: integer (nullable = true)\n",
      " |-- holidayIndex: integer (nullable = true)\n",
      " |-- weatherMainIndex: integer (nullable = true)\n",
      " |-- weatherDescIndex: integer (nullable = true)\n",
      " |-- features: vector (nullable = true)\n",
      " |-- features_norm: vector (nullable = true)\n",
      " |-- temp_Norm: double (nullable = true)\n",
      " |-- rain_1h_Norm: double (nullable = true)\n",
      " |-- snow_1h_Norm: double (nullable = true)\n",
      " |-- clouds_all_Norm: double (nullable = true)\n",
      " |-- traffic_volume_Norm: double (nullable = true)\n",
      " |-- month_Norm: double (nullable = true)\n",
      " |-- day_of_week_Norm: double (nullable = true)\n",
      " |-- hour_of_day_Norm: double (nullable = true)\n",
      " |-- holidayIndex_Norm: double (nullable = true)\n",
      " |-- weatherMainIndex_Norm: double (nullable = true)\n",
      " |-- weatherDescIndex_Norm: double (nullable = true)\n",
      "\n"
     ]
    }
   ],
   "source": [
    "df.createOrReplaceTempView('df')\n",
    "df.printSchema()"
   ]
  },
  {
   "cell_type": "code",
   "execution_count": 17,
   "metadata": {},
   "outputs": [
    {
     "name": "stdout",
     "output_type": "stream",
     "text": [
      "+------+-------+-------+----------+--------------+-----+-----------+-----------+------------+----------------+----------------+------------------------------------------------+-----------------------------------------------------------------------------------------------------------------------+---------+------------+------------+---------------+-------------------+----------+----------------+----------------+-----------------+---------------------+---------------------+\n",
      "|temp  |rain_1h|snow_1h|clouds_all|traffic_volume|month|day_of_week|hour_of_day|holidayIndex|weatherMainIndex|weatherDescIndex|features                                        |features_norm                                                                                                          |temp_Norm|rain_1h_Norm|snow_1h_Norm|clouds_all_Norm|traffic_volume_Norm|month_Norm|day_of_week_Norm|hour_of_day_Norm|holidayIndex_Norm|weatherMainIndex_Norm|weatherDescIndex_Norm|\n",
      "+------+-------+-------+----------+--------------+-----+-----------+-----------+------------+----------------+----------------+------------------------------------------------+-----------------------------------------------------------------------------------------------------------------------+---------+------------+------------+---------------+-------------------+----------+----------------+----------------+-----------------+---------------------+---------------------+\n",
      "|280.62|0.0    |0.0    |96        |432           |10   |6          |3          |0           |6               |10              |[280.62,0.0,0.0,96.0,10.0,6.0,3.0,0.0,6.0,10.0] |[0.5583383323335335,0.0,0.0,0.96,0.8181818181818182,0.8333333333333334,0.13043478260869565,0.0,0.6,0.30303030303030304]|0.5583383|0.0         |0.0         |0.96           |0.0593407          |0.8181818 |0.8333333       |0.1304348       |0.0              |0.6                  |0.3030303            |\n",
      "|279.24|0.0    |0.0    |1         |5074          |11   |5          |18         |0           |1               |0               |[279.24,0.0,0.0,1.0,11.0,5.0,18.0,0.0,1.0,0.0]  |[0.5376424715056991,0.0,0.0,0.01,0.9090909090909091,0.6666666666666666,0.782608695652174,0.0,0.1,0.0]                  |0.5376425|0.0         |0.0         |0.01           |0.696978           |0.9090909 |0.6666667       |0.7826087       |0.0              |0.1                  |0.0                  |\n",
      "|284.82|0.0    |0.0    |75        |3083          |11   |4          |18         |0           |0               |2               |[284.82,0.0,0.0,75.0,11.0,4.0,18.0,0.0,0.0,2.0] |[0.6213257348530294,0.0,0.0,0.75,0.9090909090909091,0.5,0.782608695652174,0.0,0.0,0.06060606060606061]                 |0.6213257|0.0         |0.0         |0.75           |0.423489           |0.9090909 |0.5             |0.7826087       |0.0              |0.0                  |0.0606061            |\n",
      "|270.81|0.0    |0.0    |90        |2131          |12   |1          |20         |0           |4               |16              |[270.81,0.0,0.0,90.0,12.0,1.0,20.0,0.0,4.0,16.0]|[0.41121775644871045,0.0,0.0,0.9,1.0,0.0,0.8695652173913043,0.0,0.4,0.48484848484848486]                               |0.4112178|0.0         |0.0         |0.9            |0.2927198          |1.0       |0.0             |0.8695652       |0.0              |0.4                  |0.4848485            |\n",
      "|269.47|0.0    |0.0    |20        |5113          |12   |5          |9          |0           |0               |6               |[269.47,0.0,0.0,20.0,12.0,5.0,9.0,0.0,0.0,6.0]  |[0.3911217756448716,0.0,0.0,0.2,1.0,0.6666666666666666,0.391304347826087,0.0,0.0,0.18181818181818182]                  |0.3911218|0.0         |0.0         |0.2            |0.7023352          |1.0       |0.6666667       |0.3913043       |0.0              |0.0                  |0.1818182            |\n",
      "+------+-------+-------+----------+--------------+-----+-----------+-----------+------------+----------------+----------------+------------------------------------------------+-----------------------------------------------------------------------------------------------------------------------+---------+------------+------------+---------------+-------------------+----------+----------------+----------------+-----------------+---------------------+---------------------+\n",
      "only showing top 5 rows\n",
      "\n"
     ]
    }
   ],
   "source": [
    "df.show(5, truncate=False)"
   ]
  },
  {
   "cell_type": "markdown",
   "metadata": {},
   "source": [
    "### Create the __correlation marix__ based on the __'features'__ columns"
   ]
  },
  {
   "cell_type": "code",
   "execution_count": 18,
   "metadata": {},
   "outputs": [],
   "source": [
    "from pyspark.ml.stat import Correlation"
   ]
  },
  {
   "cell_type": "code",
   "execution_count": 19,
   "metadata": {},
   "outputs": [
    {
     "name": "stdout",
     "output_type": "stream",
     "text": [
      "[[ 1.     0.061 -0.016 -0.109  0.241 -0.003  0.129 -0.013 -0.042  0.048]\n",
      " [ 0.061  1.     0.001  0.068  0.017 -0.008 -0.007 -0.003  0.093  0.209]\n",
      " [-0.016  0.001  1.     0.024  0.015 -0.012  0.008 -0.001  0.023  0.023]\n",
      " [-0.109  0.068  0.024  1.    -0.013 -0.04   0.055  0.     0.132  0.379]\n",
      " [ 0.241  0.017  0.015 -0.013  1.     0.005  0.004 -0.004  0.031  0.019]\n",
      " [-0.003 -0.008 -0.012 -0.04   0.005  1.     0.    -0.034 -0.018 -0.034]\n",
      " [ 0.129 -0.007  0.008  0.055  0.004  0.     1.    -0.053 -0.095  0.001]\n",
      " [-0.013 -0.003 -0.001  0.    -0.004 -0.034 -0.053  1.    -0.003 -0.003]\n",
      " [-0.042  0.093  0.023  0.132  0.031 -0.018 -0.095 -0.003  1.     0.668]\n",
      " [ 0.048  0.209  0.023  0.379  0.019 -0.034  0.001 -0.003  0.668  1.   ]]\n"
     ]
    }
   ],
   "source": [
    "corr_matrix = Correlation.corr(df, 'features', method='pearson').collect()[0][0].toArray().round(3)\n",
    "print(corr_matrix)"
   ]
  },
  {
   "cell_type": "markdown",
   "metadata": {},
   "source": [
    "#### Let's use __pandas data frame__ so that we can have a more 'colorful' version of the correlation matrix."
   ]
  },
  {
   "cell_type": "code",
   "execution_count": 20,
   "metadata": {},
   "outputs": [
    {
     "data": {
      "text/html": [
       "<style  type=\"text/css\" >\n",
       "    #T_c4fdd212_dbc1_11e9_9158_c8d3ffe54beerow0_col0 {\n",
       "            background-color:  #b40426;\n",
       "            color:  #f1f1f1;\n",
       "        }    #T_c4fdd212_dbc1_11e9_9158_c8d3ffe54beerow0_col1 {\n",
       "            background-color:  #4f69d9;\n",
       "            color:  #000000;\n",
       "        }    #T_c4fdd212_dbc1_11e9_9158_c8d3ffe54beerow0_col2 {\n",
       "            background-color:  #3b4cc0;\n",
       "            color:  #f1f1f1;\n",
       "        }    #T_c4fdd212_dbc1_11e9_9158_c8d3ffe54beerow0_col3 {\n",
       "            background-color:  #3b4cc0;\n",
       "            color:  #f1f1f1;\n",
       "        }    #T_c4fdd212_dbc1_11e9_9158_c8d3ffe54beerow0_col4 {\n",
       "            background-color:  #8db0fe;\n",
       "            color:  #000000;\n",
       "        }    #T_c4fdd212_dbc1_11e9_9158_c8d3ffe54beerow0_col5 {\n",
       "            background-color:  #455cce;\n",
       "            color:  #f1f1f1;\n",
       "        }    #T_c4fdd212_dbc1_11e9_9158_c8d3ffe54beerow0_col6 {\n",
       "            background-color:  #7da0f9;\n",
       "            color:  #000000;\n",
       "        }    #T_c4fdd212_dbc1_11e9_9158_c8d3ffe54beerow0_col7 {\n",
       "            background-color:  #455cce;\n",
       "            color:  #f1f1f1;\n",
       "        }    #T_c4fdd212_dbc1_11e9_9158_c8d3ffe54beerow0_col8 {\n",
       "            background-color:  #4961d2;\n",
       "            color:  #f1f1f1;\n",
       "        }    #T_c4fdd212_dbc1_11e9_9158_c8d3ffe54beerow0_col9 {\n",
       "            background-color:  #536edd;\n",
       "            color:  #000000;\n",
       "        }    #T_c4fdd212_dbc1_11e9_9158_c8d3ffe54beerow1_col0 {\n",
       "            background-color:  #6b8df0;\n",
       "            color:  #000000;\n",
       "        }    #T_c4fdd212_dbc1_11e9_9158_c8d3ffe54beerow1_col1 {\n",
       "            background-color:  #b40426;\n",
       "            color:  #f1f1f1;\n",
       "        }    #T_c4fdd212_dbc1_11e9_9158_c8d3ffe54beerow1_col2 {\n",
       "            background-color:  #3f53c6;\n",
       "            color:  #f1f1f1;\n",
       "        }    #T_c4fdd212_dbc1_11e9_9158_c8d3ffe54beerow1_col3 {\n",
       "            background-color:  #6c8ff1;\n",
       "            color:  #000000;\n",
       "        }    #T_c4fdd212_dbc1_11e9_9158_c8d3ffe54beerow1_col4 {\n",
       "            background-color:  #4358cb;\n",
       "            color:  #f1f1f1;\n",
       "        }    #T_c4fdd212_dbc1_11e9_9158_c8d3ffe54beerow1_col5 {\n",
       "            background-color:  #4358cb;\n",
       "            color:  #f1f1f1;\n",
       "        }    #T_c4fdd212_dbc1_11e9_9158_c8d3ffe54beerow1_col6 {\n",
       "            background-color:  #536edd;\n",
       "            color:  #000000;\n",
       "        }    #T_c4fdd212_dbc1_11e9_9158_c8d3ffe54beerow1_col7 {\n",
       "            background-color:  #4961d2;\n",
       "            color:  #f1f1f1;\n",
       "        }    #T_c4fdd212_dbc1_11e9_9158_c8d3ffe54beerow1_col8 {\n",
       "            background-color:  #7093f3;\n",
       "            color:  #000000;\n",
       "        }    #T_c4fdd212_dbc1_11e9_9158_c8d3ffe54beerow1_col9 {\n",
       "            background-color:  #88abfd;\n",
       "            color:  #000000;\n",
       "        }    #T_c4fdd212_dbc1_11e9_9158_c8d3ffe54beerow2_col0 {\n",
       "            background-color:  #5470de;\n",
       "            color:  #000000;\n",
       "        }    #T_c4fdd212_dbc1_11e9_9158_c8d3ffe54beerow2_col1 {\n",
       "            background-color:  #3d50c3;\n",
       "            color:  #f1f1f1;\n",
       "        }    #T_c4fdd212_dbc1_11e9_9158_c8d3ffe54beerow2_col2 {\n",
       "            background-color:  #b40426;\n",
       "            color:  #f1f1f1;\n",
       "        }    #T_c4fdd212_dbc1_11e9_9158_c8d3ffe54beerow2_col3 {\n",
       "            background-color:  #5f7fe8;\n",
       "            color:  #000000;\n",
       "        }    #T_c4fdd212_dbc1_11e9_9158_c8d3ffe54beerow2_col4 {\n",
       "            background-color:  #4358cb;\n",
       "            color:  #f1f1f1;\n",
       "        }    #T_c4fdd212_dbc1_11e9_9158_c8d3ffe54beerow2_col5 {\n",
       "            background-color:  #4257c9;\n",
       "            color:  #f1f1f1;\n",
       "        }    #T_c4fdd212_dbc1_11e9_9158_c8d3ffe54beerow2_col6 {\n",
       "            background-color:  #5875e1;\n",
       "            color:  #000000;\n",
       "        }    #T_c4fdd212_dbc1_11e9_9158_c8d3ffe54beerow2_col7 {\n",
       "            background-color:  #4961d2;\n",
       "            color:  #f1f1f1;\n",
       "        }    #T_c4fdd212_dbc1_11e9_9158_c8d3ffe54beerow2_col8 {\n",
       "            background-color:  #5b7ae5;\n",
       "            color:  #000000;\n",
       "        }    #T_c4fdd212_dbc1_11e9_9158_c8d3ffe54beerow2_col9 {\n",
       "            background-color:  #4b64d5;\n",
       "            color:  #f1f1f1;\n",
       "        }    #T_c4fdd212_dbc1_11e9_9158_c8d3ffe54beerow3_col0 {\n",
       "            background-color:  #3b4cc0;\n",
       "            color:  #f1f1f1;\n",
       "        }    #T_c4fdd212_dbc1_11e9_9158_c8d3ffe54beerow3_col1 {\n",
       "            background-color:  #516ddb;\n",
       "            color:  #000000;\n",
       "        }    #T_c4fdd212_dbc1_11e9_9158_c8d3ffe54beerow3_col2 {\n",
       "            background-color:  #465ecf;\n",
       "            color:  #f1f1f1;\n",
       "        }    #T_c4fdd212_dbc1_11e9_9158_c8d3ffe54beerow3_col3 {\n",
       "            background-color:  #b40426;\n",
       "            color:  #f1f1f1;\n",
       "        }    #T_c4fdd212_dbc1_11e9_9158_c8d3ffe54beerow3_col4 {\n",
       "            background-color:  #3b4cc0;\n",
       "            color:  #f1f1f1;\n",
       "        }    #T_c4fdd212_dbc1_11e9_9158_c8d3ffe54beerow3_col5 {\n",
       "            background-color:  #3b4cc0;\n",
       "            color:  #f1f1f1;\n",
       "        }    #T_c4fdd212_dbc1_11e9_9158_c8d3ffe54beerow3_col6 {\n",
       "            background-color:  #6687ed;\n",
       "            color:  #000000;\n",
       "        }    #T_c4fdd212_dbc1_11e9_9158_c8d3ffe54beerow3_col7 {\n",
       "            background-color:  #4961d2;\n",
       "            color:  #f1f1f1;\n",
       "        }    #T_c4fdd212_dbc1_11e9_9158_c8d3ffe54beerow3_col8 {\n",
       "            background-color:  #7ea1fa;\n",
       "            color:  #000000;\n",
       "        }    #T_c4fdd212_dbc1_11e9_9158_c8d3ffe54beerow3_col9 {\n",
       "            background-color:  #c0d4f5;\n",
       "            color:  #000000;\n",
       "        }    #T_c4fdd212_dbc1_11e9_9158_c8d3ffe54beerow4_col0 {\n",
       "            background-color:  #a3c2fe;\n",
       "            color:  #000000;\n",
       "        }    #T_c4fdd212_dbc1_11e9_9158_c8d3ffe54beerow4_col1 {\n",
       "            background-color:  #4257c9;\n",
       "            color:  #f1f1f1;\n",
       "        }    #T_c4fdd212_dbc1_11e9_9158_c8d3ffe54beerow4_col2 {\n",
       "            background-color:  #4358cb;\n",
       "            color:  #f1f1f1;\n",
       "        }    #T_c4fdd212_dbc1_11e9_9158_c8d3ffe54beerow4_col3 {\n",
       "            background-color:  #5572df;\n",
       "            color:  #000000;\n",
       "        }    #T_c4fdd212_dbc1_11e9_9158_c8d3ffe54beerow4_col4 {\n",
       "            background-color:  #b40426;\n",
       "            color:  #f1f1f1;\n",
       "        }    #T_c4fdd212_dbc1_11e9_9158_c8d3ffe54beerow4_col5 {\n",
       "            background-color:  #485fd1;\n",
       "            color:  #f1f1f1;\n",
       "        }    #T_c4fdd212_dbc1_11e9_9158_c8d3ffe54beerow4_col6 {\n",
       "            background-color:  #5673e0;\n",
       "            color:  #000000;\n",
       "        }    #T_c4fdd212_dbc1_11e9_9158_c8d3ffe54beerow4_col7 {\n",
       "            background-color:  #485fd1;\n",
       "            color:  #f1f1f1;\n",
       "        }    #T_c4fdd212_dbc1_11e9_9158_c8d3ffe54beerow4_col8 {\n",
       "            background-color:  #5e7de7;\n",
       "            color:  #000000;\n",
       "        }    #T_c4fdd212_dbc1_11e9_9158_c8d3ffe54beerow4_col9 {\n",
       "            background-color:  #4a63d3;\n",
       "            color:  #f1f1f1;\n",
       "        }    #T_c4fdd212_dbc1_11e9_9158_c8d3ffe54beerow5_col0 {\n",
       "            background-color:  #5875e1;\n",
       "            color:  #000000;\n",
       "        }    #T_c4fdd212_dbc1_11e9_9158_c8d3ffe54beerow5_col1 {\n",
       "            background-color:  #3b4cc0;\n",
       "            color:  #f1f1f1;\n",
       "        }    #T_c4fdd212_dbc1_11e9_9158_c8d3ffe54beerow5_col2 {\n",
       "            background-color:  #3c4ec2;\n",
       "            color:  #f1f1f1;\n",
       "        }    #T_c4fdd212_dbc1_11e9_9158_c8d3ffe54beerow5_col3 {\n",
       "            background-color:  #4c66d6;\n",
       "            color:  #000000;\n",
       "        }    #T_c4fdd212_dbc1_11e9_9158_c8d3ffe54beerow5_col4 {\n",
       "            background-color:  #3f53c6;\n",
       "            color:  #f1f1f1;\n",
       "        }    #T_c4fdd212_dbc1_11e9_9158_c8d3ffe54beerow5_col5 {\n",
       "            background-color:  #b40426;\n",
       "            color:  #f1f1f1;\n",
       "        }    #T_c4fdd212_dbc1_11e9_9158_c8d3ffe54beerow5_col6 {\n",
       "            background-color:  #5572df;\n",
       "            color:  #000000;\n",
       "        }    #T_c4fdd212_dbc1_11e9_9158_c8d3ffe54beerow5_col7 {\n",
       "            background-color:  #3f53c6;\n",
       "            color:  #f1f1f1;\n",
       "        }    #T_c4fdd212_dbc1_11e9_9158_c8d3ffe54beerow5_col8 {\n",
       "            background-color:  #506bda;\n",
       "            color:  #000000;\n",
       "        }    #T_c4fdd212_dbc1_11e9_9158_c8d3ffe54beerow5_col9 {\n",
       "            background-color:  #3b4cc0;\n",
       "            color:  #f1f1f1;\n",
       "        }    #T_c4fdd212_dbc1_11e9_9158_c8d3ffe54beerow6_col0 {\n",
       "            background-color:  #80a3fa;\n",
       "            color:  #000000;\n",
       "        }    #T_c4fdd212_dbc1_11e9_9158_c8d3ffe54beerow6_col1 {\n",
       "            background-color:  #3b4cc0;\n",
       "            color:  #f1f1f1;\n",
       "        }    #T_c4fdd212_dbc1_11e9_9158_c8d3ffe54beerow6_col2 {\n",
       "            background-color:  #4257c9;\n",
       "            color:  #f1f1f1;\n",
       "        }    #T_c4fdd212_dbc1_11e9_9158_c8d3ffe54beerow6_col3 {\n",
       "            background-color:  #688aef;\n",
       "            color:  #000000;\n",
       "        }    #T_c4fdd212_dbc1_11e9_9158_c8d3ffe54beerow6_col4 {\n",
       "            background-color:  #3f53c6;\n",
       "            color:  #f1f1f1;\n",
       "        }    #T_c4fdd212_dbc1_11e9_9158_c8d3ffe54beerow6_col5 {\n",
       "            background-color:  #455cce;\n",
       "            color:  #f1f1f1;\n",
       "        }    #T_c4fdd212_dbc1_11e9_9158_c8d3ffe54beerow6_col6 {\n",
       "            background-color:  #b40426;\n",
       "            color:  #f1f1f1;\n",
       "        }    #T_c4fdd212_dbc1_11e9_9158_c8d3ffe54beerow6_col7 {\n",
       "            background-color:  #3b4cc0;\n",
       "            color:  #f1f1f1;\n",
       "        }    #T_c4fdd212_dbc1_11e9_9158_c8d3ffe54beerow6_col8 {\n",
       "            background-color:  #3b4cc0;\n",
       "            color:  #f1f1f1;\n",
       "        }    #T_c4fdd212_dbc1_11e9_9158_c8d3ffe54beerow6_col9 {\n",
       "            background-color:  #445acc;\n",
       "            color:  #f1f1f1;\n",
       "        }    #T_c4fdd212_dbc1_11e9_9158_c8d3ffe54beerow7_col0 {\n",
       "            background-color:  #5572df;\n",
       "            color:  #000000;\n",
       "        }    #T_c4fdd212_dbc1_11e9_9158_c8d3ffe54beerow7_col1 {\n",
       "            background-color:  #3c4ec2;\n",
       "            color:  #f1f1f1;\n",
       "        }    #T_c4fdd212_dbc1_11e9_9158_c8d3ffe54beerow7_col2 {\n",
       "            background-color:  #3e51c5;\n",
       "            color:  #f1f1f1;\n",
       "        }    #T_c4fdd212_dbc1_11e9_9158_c8d3ffe54beerow7_col3 {\n",
       "            background-color:  #5977e3;\n",
       "            color:  #000000;\n",
       "        }    #T_c4fdd212_dbc1_11e9_9158_c8d3ffe54beerow7_col4 {\n",
       "            background-color:  #3d50c3;\n",
       "            color:  #f1f1f1;\n",
       "        }    #T_c4fdd212_dbc1_11e9_9158_c8d3ffe54beerow7_col5 {\n",
       "            background-color:  #3c4ec2;\n",
       "            color:  #f1f1f1;\n",
       "        }    #T_c4fdd212_dbc1_11e9_9158_c8d3ffe54beerow7_col6 {\n",
       "            background-color:  #455cce;\n",
       "            color:  #f1f1f1;\n",
       "        }    #T_c4fdd212_dbc1_11e9_9158_c8d3ffe54beerow7_col7 {\n",
       "            background-color:  #b40426;\n",
       "            color:  #f1f1f1;\n",
       "        }    #T_c4fdd212_dbc1_11e9_9158_c8d3ffe54beerow7_col8 {\n",
       "            background-color:  #5470de;\n",
       "            color:  #000000;\n",
       "        }    #T_c4fdd212_dbc1_11e9_9158_c8d3ffe54beerow7_col9 {\n",
       "            background-color:  #4358cb;\n",
       "            color:  #f1f1f1;\n",
       "        }    #T_c4fdd212_dbc1_11e9_9158_c8d3ffe54beerow8_col0 {\n",
       "            background-color:  #4c66d6;\n",
       "            color:  #000000;\n",
       "        }    #T_c4fdd212_dbc1_11e9_9158_c8d3ffe54beerow8_col1 {\n",
       "            background-color:  #5977e3;\n",
       "            color:  #000000;\n",
       "        }    #T_c4fdd212_dbc1_11e9_9158_c8d3ffe54beerow8_col2 {\n",
       "            background-color:  #455cce;\n",
       "            color:  #f1f1f1;\n",
       "        }    #T_c4fdd212_dbc1_11e9_9158_c8d3ffe54beerow8_col3 {\n",
       "            background-color:  #81a4fb;\n",
       "            color:  #000000;\n",
       "        }    #T_c4fdd212_dbc1_11e9_9158_c8d3ffe54beerow8_col4 {\n",
       "            background-color:  #485fd1;\n",
       "            color:  #f1f1f1;\n",
       "        }    #T_c4fdd212_dbc1_11e9_9158_c8d3ffe54beerow8_col5 {\n",
       "            background-color:  #4055c8;\n",
       "            color:  #f1f1f1;\n",
       "        }    #T_c4fdd212_dbc1_11e9_9158_c8d3ffe54beerow8_col6 {\n",
       "            background-color:  #3b4cc0;\n",
       "            color:  #f1f1f1;\n",
       "        }    #T_c4fdd212_dbc1_11e9_9158_c8d3ffe54beerow8_col7 {\n",
       "            background-color:  #4961d2;\n",
       "            color:  #f1f1f1;\n",
       "        }    #T_c4fdd212_dbc1_11e9_9158_c8d3ffe54beerow8_col8 {\n",
       "            background-color:  #b40426;\n",
       "            color:  #f1f1f1;\n",
       "        }    #T_c4fdd212_dbc1_11e9_9158_c8d3ffe54beerow8_col9 {\n",
       "            background-color:  #f7b497;\n",
       "            color:  #000000;\n",
       "        }    #T_c4fdd212_dbc1_11e9_9158_c8d3ffe54beerow9_col0 {\n",
       "            background-color:  #6788ee;\n",
       "            color:  #000000;\n",
       "        }    #T_c4fdd212_dbc1_11e9_9158_c8d3ffe54beerow9_col1 {\n",
       "            background-color:  #81a4fb;\n",
       "            color:  #000000;\n",
       "        }    #T_c4fdd212_dbc1_11e9_9158_c8d3ffe54beerow9_col2 {\n",
       "            background-color:  #455cce;\n",
       "            color:  #f1f1f1;\n",
       "        }    #T_c4fdd212_dbc1_11e9_9158_c8d3ffe54beerow9_col3 {\n",
       "            background-color:  #ccd9ed;\n",
       "            color:  #000000;\n",
       "        }    #T_c4fdd212_dbc1_11e9_9158_c8d3ffe54beerow9_col4 {\n",
       "            background-color:  #445acc;\n",
       "            color:  #f1f1f1;\n",
       "        }    #T_c4fdd212_dbc1_11e9_9158_c8d3ffe54beerow9_col5 {\n",
       "            background-color:  #3c4ec2;\n",
       "            color:  #f1f1f1;\n",
       "        }    #T_c4fdd212_dbc1_11e9_9158_c8d3ffe54beerow9_col6 {\n",
       "            background-color:  #5572df;\n",
       "            color:  #000000;\n",
       "        }    #T_c4fdd212_dbc1_11e9_9158_c8d3ffe54beerow9_col7 {\n",
       "            background-color:  #4961d2;\n",
       "            color:  #f1f1f1;\n",
       "        }    #T_c4fdd212_dbc1_11e9_9158_c8d3ffe54beerow9_col8 {\n",
       "            background-color:  #f7ad90;\n",
       "            color:  #000000;\n",
       "        }    #T_c4fdd212_dbc1_11e9_9158_c8d3ffe54beerow9_col9 {\n",
       "            background-color:  #b40426;\n",
       "            color:  #f1f1f1;\n",
       "        }</style><table id=\"T_c4fdd212_dbc1_11e9_9158_c8d3ffe54bee\" ><thead>    <tr>        <th class=\"blank level0\" ></th>        <th class=\"col_heading level0 col0\" >0</th>        <th class=\"col_heading level0 col1\" >1</th>        <th class=\"col_heading level0 col2\" >2</th>        <th class=\"col_heading level0 col3\" >3</th>        <th class=\"col_heading level0 col4\" >4</th>        <th class=\"col_heading level0 col5\" >5</th>        <th class=\"col_heading level0 col6\" >6</th>        <th class=\"col_heading level0 col7\" >7</th>        <th class=\"col_heading level0 col8\" >8</th>        <th class=\"col_heading level0 col9\" >9</th>    </tr></thead><tbody>\n",
       "                <tr>\n",
       "                        <th id=\"T_c4fdd212_dbc1_11e9_9158_c8d3ffe54beelevel0_row0\" class=\"row_heading level0 row0\" >0</th>\n",
       "                        <td id=\"T_c4fdd212_dbc1_11e9_9158_c8d3ffe54beerow0_col0\" class=\"data row0 col0\" >1</td>\n",
       "                        <td id=\"T_c4fdd212_dbc1_11e9_9158_c8d3ffe54beerow0_col1\" class=\"data row0 col1\" >0.061</td>\n",
       "                        <td id=\"T_c4fdd212_dbc1_11e9_9158_c8d3ffe54beerow0_col2\" class=\"data row0 col2\" >-0.016</td>\n",
       "                        <td id=\"T_c4fdd212_dbc1_11e9_9158_c8d3ffe54beerow0_col3\" class=\"data row0 col3\" >-0.109</td>\n",
       "                        <td id=\"T_c4fdd212_dbc1_11e9_9158_c8d3ffe54beerow0_col4\" class=\"data row0 col4\" >0.241</td>\n",
       "                        <td id=\"T_c4fdd212_dbc1_11e9_9158_c8d3ffe54beerow0_col5\" class=\"data row0 col5\" >-0.003</td>\n",
       "                        <td id=\"T_c4fdd212_dbc1_11e9_9158_c8d3ffe54beerow0_col6\" class=\"data row0 col6\" >0.129</td>\n",
       "                        <td id=\"T_c4fdd212_dbc1_11e9_9158_c8d3ffe54beerow0_col7\" class=\"data row0 col7\" >-0.013</td>\n",
       "                        <td id=\"T_c4fdd212_dbc1_11e9_9158_c8d3ffe54beerow0_col8\" class=\"data row0 col8\" >-0.042</td>\n",
       "                        <td id=\"T_c4fdd212_dbc1_11e9_9158_c8d3ffe54beerow0_col9\" class=\"data row0 col9\" >0.048</td>\n",
       "            </tr>\n",
       "            <tr>\n",
       "                        <th id=\"T_c4fdd212_dbc1_11e9_9158_c8d3ffe54beelevel0_row1\" class=\"row_heading level0 row1\" >1</th>\n",
       "                        <td id=\"T_c4fdd212_dbc1_11e9_9158_c8d3ffe54beerow1_col0\" class=\"data row1 col0\" >0.061</td>\n",
       "                        <td id=\"T_c4fdd212_dbc1_11e9_9158_c8d3ffe54beerow1_col1\" class=\"data row1 col1\" >1</td>\n",
       "                        <td id=\"T_c4fdd212_dbc1_11e9_9158_c8d3ffe54beerow1_col2\" class=\"data row1 col2\" >0.001</td>\n",
       "                        <td id=\"T_c4fdd212_dbc1_11e9_9158_c8d3ffe54beerow1_col3\" class=\"data row1 col3\" >0.068</td>\n",
       "                        <td id=\"T_c4fdd212_dbc1_11e9_9158_c8d3ffe54beerow1_col4\" class=\"data row1 col4\" >0.017</td>\n",
       "                        <td id=\"T_c4fdd212_dbc1_11e9_9158_c8d3ffe54beerow1_col5\" class=\"data row1 col5\" >-0.008</td>\n",
       "                        <td id=\"T_c4fdd212_dbc1_11e9_9158_c8d3ffe54beerow1_col6\" class=\"data row1 col6\" >-0.007</td>\n",
       "                        <td id=\"T_c4fdd212_dbc1_11e9_9158_c8d3ffe54beerow1_col7\" class=\"data row1 col7\" >-0.003</td>\n",
       "                        <td id=\"T_c4fdd212_dbc1_11e9_9158_c8d3ffe54beerow1_col8\" class=\"data row1 col8\" >0.093</td>\n",
       "                        <td id=\"T_c4fdd212_dbc1_11e9_9158_c8d3ffe54beerow1_col9\" class=\"data row1 col9\" >0.209</td>\n",
       "            </tr>\n",
       "            <tr>\n",
       "                        <th id=\"T_c4fdd212_dbc1_11e9_9158_c8d3ffe54beelevel0_row2\" class=\"row_heading level0 row2\" >2</th>\n",
       "                        <td id=\"T_c4fdd212_dbc1_11e9_9158_c8d3ffe54beerow2_col0\" class=\"data row2 col0\" >-0.016</td>\n",
       "                        <td id=\"T_c4fdd212_dbc1_11e9_9158_c8d3ffe54beerow2_col1\" class=\"data row2 col1\" >0.001</td>\n",
       "                        <td id=\"T_c4fdd212_dbc1_11e9_9158_c8d3ffe54beerow2_col2\" class=\"data row2 col2\" >1</td>\n",
       "                        <td id=\"T_c4fdd212_dbc1_11e9_9158_c8d3ffe54beerow2_col3\" class=\"data row2 col3\" >0.024</td>\n",
       "                        <td id=\"T_c4fdd212_dbc1_11e9_9158_c8d3ffe54beerow2_col4\" class=\"data row2 col4\" >0.015</td>\n",
       "                        <td id=\"T_c4fdd212_dbc1_11e9_9158_c8d3ffe54beerow2_col5\" class=\"data row2 col5\" >-0.012</td>\n",
       "                        <td id=\"T_c4fdd212_dbc1_11e9_9158_c8d3ffe54beerow2_col6\" class=\"data row2 col6\" >0.008</td>\n",
       "                        <td id=\"T_c4fdd212_dbc1_11e9_9158_c8d3ffe54beerow2_col7\" class=\"data row2 col7\" >-0.001</td>\n",
       "                        <td id=\"T_c4fdd212_dbc1_11e9_9158_c8d3ffe54beerow2_col8\" class=\"data row2 col8\" >0.023</td>\n",
       "                        <td id=\"T_c4fdd212_dbc1_11e9_9158_c8d3ffe54beerow2_col9\" class=\"data row2 col9\" >0.023</td>\n",
       "            </tr>\n",
       "            <tr>\n",
       "                        <th id=\"T_c4fdd212_dbc1_11e9_9158_c8d3ffe54beelevel0_row3\" class=\"row_heading level0 row3\" >3</th>\n",
       "                        <td id=\"T_c4fdd212_dbc1_11e9_9158_c8d3ffe54beerow3_col0\" class=\"data row3 col0\" >-0.109</td>\n",
       "                        <td id=\"T_c4fdd212_dbc1_11e9_9158_c8d3ffe54beerow3_col1\" class=\"data row3 col1\" >0.068</td>\n",
       "                        <td id=\"T_c4fdd212_dbc1_11e9_9158_c8d3ffe54beerow3_col2\" class=\"data row3 col2\" >0.024</td>\n",
       "                        <td id=\"T_c4fdd212_dbc1_11e9_9158_c8d3ffe54beerow3_col3\" class=\"data row3 col3\" >1</td>\n",
       "                        <td id=\"T_c4fdd212_dbc1_11e9_9158_c8d3ffe54beerow3_col4\" class=\"data row3 col4\" >-0.013</td>\n",
       "                        <td id=\"T_c4fdd212_dbc1_11e9_9158_c8d3ffe54beerow3_col5\" class=\"data row3 col5\" >-0.04</td>\n",
       "                        <td id=\"T_c4fdd212_dbc1_11e9_9158_c8d3ffe54beerow3_col6\" class=\"data row3 col6\" >0.055</td>\n",
       "                        <td id=\"T_c4fdd212_dbc1_11e9_9158_c8d3ffe54beerow3_col7\" class=\"data row3 col7\" >0</td>\n",
       "                        <td id=\"T_c4fdd212_dbc1_11e9_9158_c8d3ffe54beerow3_col8\" class=\"data row3 col8\" >0.132</td>\n",
       "                        <td id=\"T_c4fdd212_dbc1_11e9_9158_c8d3ffe54beerow3_col9\" class=\"data row3 col9\" >0.379</td>\n",
       "            </tr>\n",
       "            <tr>\n",
       "                        <th id=\"T_c4fdd212_dbc1_11e9_9158_c8d3ffe54beelevel0_row4\" class=\"row_heading level0 row4\" >4</th>\n",
       "                        <td id=\"T_c4fdd212_dbc1_11e9_9158_c8d3ffe54beerow4_col0\" class=\"data row4 col0\" >0.241</td>\n",
       "                        <td id=\"T_c4fdd212_dbc1_11e9_9158_c8d3ffe54beerow4_col1\" class=\"data row4 col1\" >0.017</td>\n",
       "                        <td id=\"T_c4fdd212_dbc1_11e9_9158_c8d3ffe54beerow4_col2\" class=\"data row4 col2\" >0.015</td>\n",
       "                        <td id=\"T_c4fdd212_dbc1_11e9_9158_c8d3ffe54beerow4_col3\" class=\"data row4 col3\" >-0.013</td>\n",
       "                        <td id=\"T_c4fdd212_dbc1_11e9_9158_c8d3ffe54beerow4_col4\" class=\"data row4 col4\" >1</td>\n",
       "                        <td id=\"T_c4fdd212_dbc1_11e9_9158_c8d3ffe54beerow4_col5\" class=\"data row4 col5\" >0.005</td>\n",
       "                        <td id=\"T_c4fdd212_dbc1_11e9_9158_c8d3ffe54beerow4_col6\" class=\"data row4 col6\" >0.004</td>\n",
       "                        <td id=\"T_c4fdd212_dbc1_11e9_9158_c8d3ffe54beerow4_col7\" class=\"data row4 col7\" >-0.004</td>\n",
       "                        <td id=\"T_c4fdd212_dbc1_11e9_9158_c8d3ffe54beerow4_col8\" class=\"data row4 col8\" >0.031</td>\n",
       "                        <td id=\"T_c4fdd212_dbc1_11e9_9158_c8d3ffe54beerow4_col9\" class=\"data row4 col9\" >0.019</td>\n",
       "            </tr>\n",
       "            <tr>\n",
       "                        <th id=\"T_c4fdd212_dbc1_11e9_9158_c8d3ffe54beelevel0_row5\" class=\"row_heading level0 row5\" >5</th>\n",
       "                        <td id=\"T_c4fdd212_dbc1_11e9_9158_c8d3ffe54beerow5_col0\" class=\"data row5 col0\" >-0.003</td>\n",
       "                        <td id=\"T_c4fdd212_dbc1_11e9_9158_c8d3ffe54beerow5_col1\" class=\"data row5 col1\" >-0.008</td>\n",
       "                        <td id=\"T_c4fdd212_dbc1_11e9_9158_c8d3ffe54beerow5_col2\" class=\"data row5 col2\" >-0.012</td>\n",
       "                        <td id=\"T_c4fdd212_dbc1_11e9_9158_c8d3ffe54beerow5_col3\" class=\"data row5 col3\" >-0.04</td>\n",
       "                        <td id=\"T_c4fdd212_dbc1_11e9_9158_c8d3ffe54beerow5_col4\" class=\"data row5 col4\" >0.005</td>\n",
       "                        <td id=\"T_c4fdd212_dbc1_11e9_9158_c8d3ffe54beerow5_col5\" class=\"data row5 col5\" >1</td>\n",
       "                        <td id=\"T_c4fdd212_dbc1_11e9_9158_c8d3ffe54beerow5_col6\" class=\"data row5 col6\" >0</td>\n",
       "                        <td id=\"T_c4fdd212_dbc1_11e9_9158_c8d3ffe54beerow5_col7\" class=\"data row5 col7\" >-0.034</td>\n",
       "                        <td id=\"T_c4fdd212_dbc1_11e9_9158_c8d3ffe54beerow5_col8\" class=\"data row5 col8\" >-0.018</td>\n",
       "                        <td id=\"T_c4fdd212_dbc1_11e9_9158_c8d3ffe54beerow5_col9\" class=\"data row5 col9\" >-0.034</td>\n",
       "            </tr>\n",
       "            <tr>\n",
       "                        <th id=\"T_c4fdd212_dbc1_11e9_9158_c8d3ffe54beelevel0_row6\" class=\"row_heading level0 row6\" >6</th>\n",
       "                        <td id=\"T_c4fdd212_dbc1_11e9_9158_c8d3ffe54beerow6_col0\" class=\"data row6 col0\" >0.129</td>\n",
       "                        <td id=\"T_c4fdd212_dbc1_11e9_9158_c8d3ffe54beerow6_col1\" class=\"data row6 col1\" >-0.007</td>\n",
       "                        <td id=\"T_c4fdd212_dbc1_11e9_9158_c8d3ffe54beerow6_col2\" class=\"data row6 col2\" >0.008</td>\n",
       "                        <td id=\"T_c4fdd212_dbc1_11e9_9158_c8d3ffe54beerow6_col3\" class=\"data row6 col3\" >0.055</td>\n",
       "                        <td id=\"T_c4fdd212_dbc1_11e9_9158_c8d3ffe54beerow6_col4\" class=\"data row6 col4\" >0.004</td>\n",
       "                        <td id=\"T_c4fdd212_dbc1_11e9_9158_c8d3ffe54beerow6_col5\" class=\"data row6 col5\" >0</td>\n",
       "                        <td id=\"T_c4fdd212_dbc1_11e9_9158_c8d3ffe54beerow6_col6\" class=\"data row6 col6\" >1</td>\n",
       "                        <td id=\"T_c4fdd212_dbc1_11e9_9158_c8d3ffe54beerow6_col7\" class=\"data row6 col7\" >-0.053</td>\n",
       "                        <td id=\"T_c4fdd212_dbc1_11e9_9158_c8d3ffe54beerow6_col8\" class=\"data row6 col8\" >-0.095</td>\n",
       "                        <td id=\"T_c4fdd212_dbc1_11e9_9158_c8d3ffe54beerow6_col9\" class=\"data row6 col9\" >0.001</td>\n",
       "            </tr>\n",
       "            <tr>\n",
       "                        <th id=\"T_c4fdd212_dbc1_11e9_9158_c8d3ffe54beelevel0_row7\" class=\"row_heading level0 row7\" >7</th>\n",
       "                        <td id=\"T_c4fdd212_dbc1_11e9_9158_c8d3ffe54beerow7_col0\" class=\"data row7 col0\" >-0.013</td>\n",
       "                        <td id=\"T_c4fdd212_dbc1_11e9_9158_c8d3ffe54beerow7_col1\" class=\"data row7 col1\" >-0.003</td>\n",
       "                        <td id=\"T_c4fdd212_dbc1_11e9_9158_c8d3ffe54beerow7_col2\" class=\"data row7 col2\" >-0.001</td>\n",
       "                        <td id=\"T_c4fdd212_dbc1_11e9_9158_c8d3ffe54beerow7_col3\" class=\"data row7 col3\" >0</td>\n",
       "                        <td id=\"T_c4fdd212_dbc1_11e9_9158_c8d3ffe54beerow7_col4\" class=\"data row7 col4\" >-0.004</td>\n",
       "                        <td id=\"T_c4fdd212_dbc1_11e9_9158_c8d3ffe54beerow7_col5\" class=\"data row7 col5\" >-0.034</td>\n",
       "                        <td id=\"T_c4fdd212_dbc1_11e9_9158_c8d3ffe54beerow7_col6\" class=\"data row7 col6\" >-0.053</td>\n",
       "                        <td id=\"T_c4fdd212_dbc1_11e9_9158_c8d3ffe54beerow7_col7\" class=\"data row7 col7\" >1</td>\n",
       "                        <td id=\"T_c4fdd212_dbc1_11e9_9158_c8d3ffe54beerow7_col8\" class=\"data row7 col8\" >-0.003</td>\n",
       "                        <td id=\"T_c4fdd212_dbc1_11e9_9158_c8d3ffe54beerow7_col9\" class=\"data row7 col9\" >-0.003</td>\n",
       "            </tr>\n",
       "            <tr>\n",
       "                        <th id=\"T_c4fdd212_dbc1_11e9_9158_c8d3ffe54beelevel0_row8\" class=\"row_heading level0 row8\" >8</th>\n",
       "                        <td id=\"T_c4fdd212_dbc1_11e9_9158_c8d3ffe54beerow8_col0\" class=\"data row8 col0\" >-0.042</td>\n",
       "                        <td id=\"T_c4fdd212_dbc1_11e9_9158_c8d3ffe54beerow8_col1\" class=\"data row8 col1\" >0.093</td>\n",
       "                        <td id=\"T_c4fdd212_dbc1_11e9_9158_c8d3ffe54beerow8_col2\" class=\"data row8 col2\" >0.023</td>\n",
       "                        <td id=\"T_c4fdd212_dbc1_11e9_9158_c8d3ffe54beerow8_col3\" class=\"data row8 col3\" >0.132</td>\n",
       "                        <td id=\"T_c4fdd212_dbc1_11e9_9158_c8d3ffe54beerow8_col4\" class=\"data row8 col4\" >0.031</td>\n",
       "                        <td id=\"T_c4fdd212_dbc1_11e9_9158_c8d3ffe54beerow8_col5\" class=\"data row8 col5\" >-0.018</td>\n",
       "                        <td id=\"T_c4fdd212_dbc1_11e9_9158_c8d3ffe54beerow8_col6\" class=\"data row8 col6\" >-0.095</td>\n",
       "                        <td id=\"T_c4fdd212_dbc1_11e9_9158_c8d3ffe54beerow8_col7\" class=\"data row8 col7\" >-0.003</td>\n",
       "                        <td id=\"T_c4fdd212_dbc1_11e9_9158_c8d3ffe54beerow8_col8\" class=\"data row8 col8\" >1</td>\n",
       "                        <td id=\"T_c4fdd212_dbc1_11e9_9158_c8d3ffe54beerow8_col9\" class=\"data row8 col9\" >0.668</td>\n",
       "            </tr>\n",
       "            <tr>\n",
       "                        <th id=\"T_c4fdd212_dbc1_11e9_9158_c8d3ffe54beelevel0_row9\" class=\"row_heading level0 row9\" >9</th>\n",
       "                        <td id=\"T_c4fdd212_dbc1_11e9_9158_c8d3ffe54beerow9_col0\" class=\"data row9 col0\" >0.048</td>\n",
       "                        <td id=\"T_c4fdd212_dbc1_11e9_9158_c8d3ffe54beerow9_col1\" class=\"data row9 col1\" >0.209</td>\n",
       "                        <td id=\"T_c4fdd212_dbc1_11e9_9158_c8d3ffe54beerow9_col2\" class=\"data row9 col2\" >0.023</td>\n",
       "                        <td id=\"T_c4fdd212_dbc1_11e9_9158_c8d3ffe54beerow9_col3\" class=\"data row9 col3\" >0.379</td>\n",
       "                        <td id=\"T_c4fdd212_dbc1_11e9_9158_c8d3ffe54beerow9_col4\" class=\"data row9 col4\" >0.019</td>\n",
       "                        <td id=\"T_c4fdd212_dbc1_11e9_9158_c8d3ffe54beerow9_col5\" class=\"data row9 col5\" >-0.034</td>\n",
       "                        <td id=\"T_c4fdd212_dbc1_11e9_9158_c8d3ffe54beerow9_col6\" class=\"data row9 col6\" >0.001</td>\n",
       "                        <td id=\"T_c4fdd212_dbc1_11e9_9158_c8d3ffe54beerow9_col7\" class=\"data row9 col7\" >-0.003</td>\n",
       "                        <td id=\"T_c4fdd212_dbc1_11e9_9158_c8d3ffe54beerow9_col8\" class=\"data row9 col8\" >0.668</td>\n",
       "                        <td id=\"T_c4fdd212_dbc1_11e9_9158_c8d3ffe54beerow9_col9\" class=\"data row9 col9\" >1</td>\n",
       "            </tr>\n",
       "    </tbody></table>"
      ],
      "text/plain": [
       "<pandas.io.formats.style.Styler at 0x1c67aef4388>"
      ]
     },
     "execution_count": 20,
     "metadata": {},
     "output_type": "execute_result"
    }
   ],
   "source": [
    "import pandas as pd\n",
    "corr_matrix_df = pd.DataFrame(corr_matrix)\n",
    "corr_matrix_df.style.background_gradient(cmap='coolwarm')"
   ]
  },
  {
   "cell_type": "markdown",
   "metadata": {},
   "source": [
    "#### No two features are strongly correlated, so we can't remove any of them."
   ]
  },
  {
   "cell_type": "code",
   "execution_count": 21,
   "metadata": {},
   "outputs": [],
   "source": [
    "# Delete corr_matrix_df to free up some memory\n",
    "del corr_matrix_df"
   ]
  },
  {
   "cell_type": "markdown",
   "metadata": {},
   "source": [
    "#### The two newly created colums __'features'__ and __'features_norm'__ will also be used for the Machine Learning algorithm"
   ]
  },
  {
   "cell_type": "markdown",
   "metadata": {},
   "source": [
    "## Split the data into training, validation, testing data sets"
   ]
  },
  {
   "cell_type": "markdown",
   "metadata": {},
   "source": [
    "I will split the data fram into three: training, validation and testing data frames\n",
    "\n",
    "I will use the training data set for model definition and training and the validation and testing data for model evaluation."
   ]
  },
  {
   "cell_type": "code",
   "execution_count": 22,
   "metadata": {},
   "outputs": [
    {
     "name": "stdout",
     "output_type": "stream",
     "text": [
      "Number of rows in the training dataframe: 28194\n",
      "Number of rows in the validation dataframe: 8266\n",
      "Number of rows in the testing dataframe: 4109\n"
     ]
    }
   ],
   "source": [
    "df_train, df_val, df_test = df.randomSplit([0.7, 0.2, 0.1], seed=12345)\n",
    "    \n",
    "print('Number of rows in the training dataframe: {}'.format(df_train.count()))\n",
    "print('Number of rows in the validation dataframe: {}'.format(df_val.count()))\n",
    "print('Number of rows in the testing dataframe: {}'.format(df_test.count()))"
   ]
  },
  {
   "cell_type": "code",
   "execution_count": 23,
   "metadata": {},
   "outputs": [],
   "source": [
    "df_train.createOrReplaceTempView('df_train')\n",
    "df_val.createOrReplaceTempView('df_val')\n",
    "df_test.createOrReplaceTempView('df_test')"
   ]
  },
  {
   "cell_type": "markdown",
   "metadata": {},
   "source": [
    "## __NON DEEP LEARNING MODEL DEFINITION__"
   ]
  },
  {
   "cell_type": "markdown",
   "metadata": {},
   "source": [
    "### __LINEAR REGRESSION__"
   ]
  },
  {
   "cell_type": "markdown",
   "metadata": {},
   "source": [
    "#### As a first attempt for the model definition, I will use __Linear Regression with pyspark.ml__"
   ]
  },
  {
   "cell_type": "code",
   "execution_count": 24,
   "metadata": {},
   "outputs": [],
   "source": [
    "from pyspark.ml.regression import LinearRegression\n",
    "from pyspark.ml.evaluation import RegressionEvaluator"
   ]
  },
  {
   "cell_type": "markdown",
   "metadata": {},
   "source": [
    "#### __GRID SEARCH FOR LINEAR REGRESSION__\n",
    "#### Using Linear Regrssion, let's run it over a different sets of hyperparameters\n",
    "This will give us an indication of not only if our model works and if so, it will also give a set of good hyperparameters\n",
    "\n",
    "The grid search will iterate through the hyperparameters:\n",
    "* regParams\n",
    "* fitIntercepts\n",
    "* elasticNetParams\n",
    "\n",
    "As performance measurement I will use __R-squared (r2)__ so I can get a normalized score"
   ]
  },
  {
   "cell_type": "code",
   "execution_count": 25,
   "metadata": {},
   "outputs": [],
   "source": [
    "evaluator = RegressionEvaluator().setMetricName('r2').setPredictionCol(\"prediction\").setLabelCol(\"traffic_volume\")"
   ]
  },
  {
   "cell_type": "code",
   "execution_count": 26,
   "metadata": {},
   "outputs": [
    {
     "name": "stdout",
     "output_type": "stream",
     "text": [
      "For regparam = 1, fitIntercept = False, elasticNetParam = 0 -> score = 0.10640432780698006\n",
      "For regparam = 1, fitIntercept = False, elasticNetParam = 0.5 -> score = 0.10640350809464594\n",
      "For regparam = 1, fitIntercept = False, elasticNetParam = 1 -> score = 0.10640126378952575\n",
      "For regparam = 1, fitIntercept = True, elasticNetParam = 0 -> score = 0.16659604729248756\n",
      "For regparam = 1, fitIntercept = True, elasticNetParam = 0.5 -> score = 0.16659509914799697\n",
      "For regparam = 1, fitIntercept = True, elasticNetParam = 1 -> score = 0.16659274643016087\n",
      "For regparam = 0.1, fitIntercept = False, elasticNetParam = 0 -> score = 0.10640436138332643\n",
      "For regparam = 0.1, fitIntercept = False, elasticNetParam = 0.5 -> score = 0.10640435318020769\n",
      "For regparam = 0.1, fitIntercept = False, elasticNetParam = 1 -> score = 0.10640432987466553\n",
      "For regparam = 0.1, fitIntercept = True, elasticNetParam = 0 -> score = 0.16659608618903876\n",
      "For regparam = 0.1, fitIntercept = True, elasticNetParam = 0.5 -> score = 0.16659607672961052\n",
      "For regparam = 0.1, fitIntercept = True, elasticNetParam = 1 -> score = 0.16659605242736097\n",
      "For regparam = 0.001, fitIntercept = False, elasticNetParam = 0 -> score = 0.10640436172275447\n",
      "For regparam = 0.001, fitIntercept = False, elasticNetParam = 0.5 -> score = 0.106404361392051\n",
      "For regparam = 0.001, fitIntercept = False, elasticNetParam = 1 -> score = 0.10640436171961498\n",
      "For regparam = 0.001, fitIntercept = True, elasticNetParam = 0 -> score = 0.16659608658231062\n",
      "For regparam = 0.001, fitIntercept = True, elasticNetParam = 0.5 -> score = 0.1665960865810452\n",
      "For regparam = 0.001, fitIntercept = True, elasticNetParam = 1 -> score = 0.16659608657926372\n"
     ]
    }
   ],
   "source": [
    "lr = LinearRegression(featuresCol='features_norm', labelCol='traffic_volume', predictionCol='prediction')\n",
    "\n",
    "# Define the hyperparameters lists\n",
    "regParams = [1, 0.1, 0.001]\n",
    "fitIntercepts = [False, True]\n",
    "elasticNetParams = [0, 0.5, 1]\n",
    "\n",
    "# Run the Grid Search\n",
    "for regParam in regParams:\n",
    "    lr.set(lr.getParam('regParam'), regParam)\n",
    "    for fitIntercept in fitIntercepts:\n",
    "        lr.set(lr.getParam('fitIntercept'), fitIntercept)\n",
    "        for elasticNetParam in elasticNetParams:\n",
    "            lr.set(lr.getParam('elasticNetParam'), elasticNetParam)\n",
    "            \n",
    "            score = evaluator.evaluate(lr.fit(df_train).transform(df_train))\n",
    "            print('For regparam = {}, fitIntercept = {}, elasticNetParam = {} -> score = {}'. \\\n",
    "                  format(regParam, fitIntercept, elasticNetParam, score))"
   ]
  },
  {
   "cell_type": "markdown",
   "metadata": {},
   "source": [
    "#### It is apparent that Linear Regression does not produce good results."
   ]
  },
  {
   "cell_type": "markdown",
   "metadata": {},
   "source": [
    "#### As an extra step, let's see if there is a strong correlation between the target feature and each of the indepedent features."
   ]
  },
  {
   "cell_type": "code",
   "execution_count": 27,
   "metadata": {},
   "outputs": [
    {
     "name": "stdout",
     "output_type": "stream",
     "text": [
      "Correlation between temp and traffic_volume: 0.13953016306327648\n",
      "Correlation between rain_1h and traffic_volume: -0.013412084020647055\n",
      "Correlation between snow_1h and traffic_volume: -0.0020894165320195415\n",
      "Correlation between clouds_all and traffic_volume: 0.07839171108552294\n",
      "Correlation between month and traffic_volume: -0.00471402637026558\n",
      "Correlation between day_of_week and traffic_volume: -0.14418674924649147\n",
      "Correlation between hour_of_day and traffic_volume: 0.3550783497016299\n",
      "Correlation between holidayIndex and traffic_volume: -0.03943187953138766\n",
      "Correlation between weatherMainIndex and traffic_volume: -0.0762702785255084\n",
      "Correlation between weatherDescIndex and traffic_volume: 0.02565496866273948\n"
     ]
    }
   ],
   "source": [
    "for column in ['temp', 'rain_1h', 'snow_1h', 'clouds_all', 'month', 'day_of_week', 'hour_of_day', 'holidayIndex', \\\n",
    "               'weatherMainIndex', 'weatherDescIndex']:\n",
    "    print('Correlation between {} and traffic_volume: {}'.format(column, df.corr(column, 'traffic_volume')))"
   ]
  },
  {
   "cell_type": "markdown",
   "metadata": {},
   "source": [
    "None of the features is linearly correlated to the dependent feature, so __it is not a Linear Regression problem__."
   ]
  },
  {
   "cell_type": "markdown",
   "metadata": {},
   "source": [
    "### __NON LINEAR REGRESSION__"
   ]
  },
  {
   "cell_type": "markdown",
   "metadata": {},
   "source": [
    "#### Let's experiment with the __RandomForestRegressor__ algorithm\n",
    "\n",
    "Again __R-squared (r2)__ will be used as performance measurement"
   ]
  },
  {
   "cell_type": "code",
   "execution_count": 28,
   "metadata": {},
   "outputs": [],
   "source": [
    "from pyspark.ml.regression import RandomForestRegressor"
   ]
  },
  {
   "cell_type": "code",
   "execution_count": 29,
   "metadata": {},
   "outputs": [],
   "source": [
    "evaluator = RegressionEvaluator().setMetricName('r2').setPredictionCol(\"prediction\").setLabelCol(\"traffic_volume\")"
   ]
  },
  {
   "cell_type": "code",
   "execution_count": 30,
   "metadata": {},
   "outputs": [
    {
     "name": "stdout",
     "output_type": "stream",
     "text": [
      "\tEvaluation Score:  0.8664582474124316\n"
     ]
    }
   ],
   "source": [
    "randomForestRegressor = RandomForestRegressor(labelCol='traffic_volume', featuresCol='features_norm', predictionCol='prediction')\n",
    "\n",
    "ndl_model_rfr = randomForestRegressor.fit(df_train)\n",
    "ndl_prediction_rfr = ndl_model_rfr.transform(df_train)\n",
    "ndl_score_rfr = evaluator.evaluate(ndl_prediction_rfr)\n",
    "\n",
    "print('\\tEvaluation Score: ', ndl_score_rfr)"
   ]
  },
  {
   "cell_type": "markdown",
   "metadata": {},
   "source": [
    "The __r2 score__ is around __0.86__ which is a good indication that the model __RandomForestRegressor__ is working.\n",
    "\n",
    "Let's check the default parameters of the randomForestRegressor model"
   ]
  },
  {
   "cell_type": "code",
   "execution_count": 31,
   "metadata": {},
   "outputs": [
    {
     "name": "stdout",
     "output_type": "stream",
     "text": [
      "RandomForestRegressor_931c203c4b3c__seed => 512816861531764284\n",
      "RandomForestRegressor_931c203c4b3c__predictionCol => prediction\n",
      "RandomForestRegressor_931c203c4b3c__labelCol => traffic_volume\n",
      "RandomForestRegressor_931c203c4b3c__featuresCol => features_norm\n",
      "RandomForestRegressor_931c203c4b3c__maxDepth => 5\n",
      "RandomForestRegressor_931c203c4b3c__maxBins => 32\n",
      "RandomForestRegressor_931c203c4b3c__minInstancesPerNode => 1\n",
      "RandomForestRegressor_931c203c4b3c__minInfoGain => 0.0\n",
      "RandomForestRegressor_931c203c4b3c__maxMemoryInMB => 256\n",
      "RandomForestRegressor_931c203c4b3c__cacheNodeIds => False\n",
      "RandomForestRegressor_931c203c4b3c__checkpointInterval => 10\n",
      "RandomForestRegressor_931c203c4b3c__impurity => variance\n",
      "RandomForestRegressor_931c203c4b3c__subsamplingRate => 1.0\n",
      "RandomForestRegressor_931c203c4b3c__numTrees => 20\n",
      "RandomForestRegressor_931c203c4b3c__featureSubsetStrategy => auto\n"
     ]
    }
   ],
   "source": [
    "model_params = randomForestRegressor.extractParamMap()\n",
    "for param, value in model_params.items():\n",
    "    print(param, '=>', value)"
   ]
  },
  {
   "cell_type": "markdown",
   "metadata": {},
   "source": [
    "In the __model training__ step, I will increase the __maxDepth__ parameter of the model so that its performance increases"
   ]
  },
  {
   "cell_type": "markdown",
   "metadata": {},
   "source": [
    "Let's now create a new Pipeline that will only contain the __randomForestRegressor__ model. The normalizer stage is not needed since in the model the normalized features are not needed"
   ]
  },
  {
   "cell_type": "code",
   "execution_count": 32,
   "metadata": {},
   "outputs": [],
   "source": [
    "rfr_model_pl = Pipeline(stages=[randomForestRegressor])"
   ]
  },
  {
   "cell_type": "markdown",
   "metadata": {},
   "source": [
    "Let's now save the pipeline"
   ]
  },
  {
   "cell_type": "code",
   "execution_count": 33,
   "metadata": {},
   "outputs": [],
   "source": [
    "rfr_model_pl.write().overwrite().save('rfr_model_pl.pkl')"
   ]
  },
  {
   "cell_type": "markdown",
   "metadata": {},
   "source": [
    "## __DEEP LEARNING MODEL DEFINITION__"
   ]
  },
  {
   "cell_type": "markdown",
   "metadata": {},
   "source": [
    "Let's check the TensorFlow configuration"
   ]
  },
  {
   "cell_type": "code",
   "execution_count": 34,
   "metadata": {},
   "outputs": [
    {
     "name": "stdout",
     "output_type": "stream",
     "text": [
      "[name: \"/device:CPU:0\"\n",
      "device_type: \"CPU\"\n",
      "memory_limit: 268435456\n",
      "locality {\n",
      "}\n",
      "incarnation: 12454945463495432793\n",
      ", name: \"/device:GPU:0\"\n",
      "device_type: \"GPU\"\n",
      "memory_limit: 1448044134\n",
      "locality {\n",
      "  bus_id: 1\n",
      "  links {\n",
      "  }\n",
      "}\n",
      "incarnation: 13439210984147270269\n",
      "physical_device_desc: \"device: 0, name: GeForce GTX 960M, pci bus id: 0000:01:00.0, compute capability: 5.0\"\n",
      "]\n"
     ]
    }
   ],
   "source": [
    "from tensorflow.python.client import device_lib\n",
    "print(device_lib.list_local_devices())"
   ]
  },
  {
   "cell_type": "markdown",
   "metadata": {},
   "source": [
    "#### Again, I will work with the training data set __df_train__"
   ]
  },
  {
   "cell_type": "markdown",
   "metadata": {},
   "source": [
    "Create arrays that correspond to the training and validation normalized data sets"
   ]
  },
  {
   "cell_type": "code",
   "execution_count": 35,
   "metadata": {},
   "outputs": [],
   "source": [
    "X_train = df_train['temp_Norm', 'rain_1h_Norm', 'snow_1h_Norm', 'clouds_all_Norm', 'month_Norm', 'day_of_week_Norm', \\\n",
    "                   'hour_of_day_Norm', 'holidayIndex_Norm', 'weatherMainIndex_Norm', 'weatherDescIndex_Norm']\n",
    "y_train = df_train[['traffic_volume_Norm']]\n",
    "X_val = df_val['temp_Norm', 'rain_1h_Norm', 'snow_1h_Norm', 'clouds_all_Norm', 'month_Norm', 'day_of_week_Norm', \\\n",
    "               'hour_of_day_Norm', 'holidayIndex_Norm', 'weatherMainIndex_Norm', 'weatherDescIndex_Norm']\n",
    "y_val = df_val[['traffic_volume_Norm']]"
   ]
  },
  {
   "cell_type": "code",
   "execution_count": 36,
   "metadata": {},
   "outputs": [],
   "source": [
    "X_train.createOrReplaceTempView('X_train')\n",
    "X_train_arr = np.array(spark.sql('select * from X_train').collect())\n",
    "\n",
    "y_train.createOrReplaceTempView('y_train')\n",
    "y_train_arr = np.array(spark.sql('select * from y_train').collect())\n",
    "\n",
    "X_val.createOrReplaceTempView('X_val')\n",
    "X_val_arr = np.array(spark.sql('select * from X_val').collect())\n",
    "\n",
    "y_val.createOrReplaceTempView('y_val')\n",
    "y_val_arr = np.array(spark.sql('select * from y_val').collect())"
   ]
  },
  {
   "cell_type": "markdown",
   "metadata": {},
   "source": [
    "#### I will use __Keras__ to create the neural network"
   ]
  },
  {
   "cell_type": "code",
   "execution_count": 37,
   "metadata": {},
   "outputs": [
    {
     "name": "stderr",
     "output_type": "stream",
     "text": [
      "Using TensorFlow backend.\n"
     ]
    }
   ],
   "source": [
    "from keras.models import Sequential\n",
    "from keras.layers import Dense\n",
    "\n",
    "from keras.initializers import VarianceScaling\n",
    "\n",
    "# For the model compilation\n",
    "from keras.optimizers import Adam\n",
    "from keras import metrics"
   ]
  },
  {
   "cell_type": "markdown",
   "metadata": {},
   "source": [
    "After a lot of search and experimentation I shaped with the following configuration"
   ]
  },
  {
   "cell_type": "code",
   "execution_count": 38,
   "metadata": {},
   "outputs": [
    {
     "name": "stdout",
     "output_type": "stream",
     "text": [
      "WARNING:tensorflow:From c:\\program files\\python37\\lib\\site-packages\\keras\\backend\\tensorflow_backend.py:66: The name tf.get_default_graph is deprecated. Please use tf.compat.v1.get_default_graph instead.\n",
      "\n",
      "WARNING:tensorflow:From c:\\program files\\python37\\lib\\site-packages\\keras\\backend\\tensorflow_backend.py:541: The name tf.placeholder is deprecated. Please use tf.compat.v1.placeholder instead.\n",
      "\n",
      "WARNING:tensorflow:From c:\\program files\\python37\\lib\\site-packages\\keras\\backend\\tensorflow_backend.py:4432: The name tf.random_uniform is deprecated. Please use tf.random.uniform instead.\n",
      "\n",
      "WARNING:tensorflow:From c:\\program files\\python37\\lib\\site-packages\\keras\\optimizers.py:793: The name tf.train.Optimizer is deprecated. Please use tf.compat.v1.train.Optimizer instead.\n",
      "\n",
      "Model: \"sequential_1\"\n",
      "_________________________________________________________________\n",
      "Layer (type)                 Output Shape              Param #   \n",
      "=================================================================\n",
      "dense_1 (Dense)              (None, 20)                220       \n",
      "_________________________________________________________________\n",
      "dense_2 (Dense)              (None, 512)               10752     \n",
      "_________________________________________________________________\n",
      "dense_3 (Dense)              (None, 256)               131328    \n",
      "_________________________________________________________________\n",
      "dense_4 (Dense)              (None, 128)               32896     \n",
      "_________________________________________________________________\n",
      "dense_5 (Dense)              (None, 64)                8256      \n",
      "_________________________________________________________________\n",
      "dense_6 (Dense)              (None, 32)                2080      \n",
      "_________________________________________________________________\n",
      "dense_7 (Dense)              (None, 64)                2112      \n",
      "_________________________________________________________________\n",
      "dense_8 (Dense)              (None, 16)                1040      \n",
      "_________________________________________________________________\n",
      "dense_9 (Dense)              (None, 8)                 136       \n",
      "_________________________________________________________________\n",
      "dense_10 (Dense)             (None, 1)                 9         \n",
      "=================================================================\n",
      "Total params: 188,829\n",
      "Trainable params: 188,829\n",
      "Non-trainable params: 0\n",
      "_________________________________________________________________\n"
     ]
    }
   ],
   "source": [
    "kernel_initializer=VarianceScaling(distribution='uniform')\n",
    "\n",
    "optimizer = Adam()\n",
    "model = Sequential()\n",
    "model.add(Dense(20, input_shape=(10,), kernel_initializer=kernel_initializer, activation='relu'))\n",
    "model.add(Dense(512, kernel_initializer=kernel_initializer, activation='relu'))\n",
    "model.add(Dense(256, kernel_initializer=kernel_initializer, activation='relu'))\n",
    "model.add(Dense(128, kernel_initializer=kernel_initializer, activation='relu'))\n",
    "model.add(Dense(64, kernel_initializer=kernel_initializer, activation='relu'))\n",
    "model.add(Dense(32, kernel_initializer=kernel_initializer, activation='relu'))\n",
    "model.add(Dense(64, kernel_initializer=kernel_initializer, activation='relu'))\n",
    "model.add(Dense(16, kernel_initializer=kernel_initializer, activation='relu'))\n",
    "model.add(Dense(8, kernel_initializer=kernel_initializer, activation='relu'))\n",
    "model.add(Dense(1, kernel_initializer=kernel_initializer, activation='linear'))\n",
    "\n",
    "model.compile(loss='mse', optimizer=optimizer, metrics=['mse', 'mae'])\n",
    "\n",
    "model.summary()"
   ]
  },
  {
   "cell_type": "markdown",
   "metadata": {},
   "source": [
    "Let's now fit the model using the training data set having the validation data set as our validation data\n",
    "\n",
    "It will be run on 50 epochs with batch size 127. I took __Ilja Rasin's__ advice from his lelevant presentation. In this case the training set size 28194 which is devided exactly by 127"
   ]
  },
  {
   "cell_type": "code",
   "execution_count": 39,
   "metadata": {},
   "outputs": [
    {
     "name": "stdout",
     "output_type": "stream",
     "text": [
      "WARNING:tensorflow:From c:\\program files\\python37\\lib\\site-packages\\keras\\backend\\tensorflow_backend.py:1033: The name tf.assign_add is deprecated. Please use tf.compat.v1.assign_add instead.\n",
      "\n",
      "WARNING:tensorflow:From c:\\program files\\python37\\lib\\site-packages\\keras\\backend\\tensorflow_backend.py:1020: The name tf.assign is deprecated. Please use tf.compat.v1.assign instead.\n",
      "\n",
      "Train on 28194 samples, validate on 8266 samples\n",
      "Epoch 1/50\n",
      " - 3s - loss: 0.0423 - mean_squared_error: 0.0423 - mean_absolute_error: 0.1550 - val_loss: 0.0169 - val_mean_squared_error: 0.0169 - val_mean_absolute_error: 0.0973\n",
      "Epoch 2/50\n",
      " - 1s - loss: 0.0120 - mean_squared_error: 0.0120 - mean_absolute_error: 0.0785 - val_loss: 0.0081 - val_mean_squared_error: 0.0081 - val_mean_absolute_error: 0.0610\n",
      "Epoch 3/50\n",
      " - 1s - loss: 0.0073 - mean_squared_error: 0.0073 - mean_absolute_error: 0.0575 - val_loss: 0.0076 - val_mean_squared_error: 0.0076 - val_mean_absolute_error: 0.0557\n",
      "Epoch 4/50\n",
      " - 1s - loss: 0.0063 - mean_squared_error: 0.0063 - mean_absolute_error: 0.0519 - val_loss: 0.0062 - val_mean_squared_error: 0.0062 - val_mean_absolute_error: 0.0534\n",
      "Epoch 5/50\n",
      " - 1s - loss: 0.0057 - mean_squared_error: 0.0057 - mean_absolute_error: 0.0490 - val_loss: 0.0063 - val_mean_squared_error: 0.0063 - val_mean_absolute_error: 0.0527\n",
      "Epoch 6/50\n",
      " - 1s - loss: 0.0052 - mean_squared_error: 0.0052 - mean_absolute_error: 0.0456 - val_loss: 0.0080 - val_mean_squared_error: 0.0080 - val_mean_absolute_error: 0.0598\n",
      "Epoch 7/50\n",
      " - 1s - loss: 0.0051 - mean_squared_error: 0.0051 - mean_absolute_error: 0.0451 - val_loss: 0.0076 - val_mean_squared_error: 0.0076 - val_mean_absolute_error: 0.0596\n",
      "Epoch 8/50\n",
      " - 1s - loss: 0.0052 - mean_squared_error: 0.0052 - mean_absolute_error: 0.0456 - val_loss: 0.0050 - val_mean_squared_error: 0.0050 - val_mean_absolute_error: 0.0417\n",
      "Epoch 9/50\n",
      " - 1s - loss: 0.0049 - mean_squared_error: 0.0049 - mean_absolute_error: 0.0436 - val_loss: 0.0052 - val_mean_squared_error: 0.0052 - val_mean_absolute_error: 0.0442\n",
      "Epoch 10/50\n",
      " - 1s - loss: 0.0047 - mean_squared_error: 0.0047 - mean_absolute_error: 0.0425 - val_loss: 0.0050 - val_mean_squared_error: 0.0050 - val_mean_absolute_error: 0.0416\n",
      "Epoch 11/50\n",
      " - 1s - loss: 0.0047 - mean_squared_error: 0.0047 - mean_absolute_error: 0.0422 - val_loss: 0.0051 - val_mean_squared_error: 0.0051 - val_mean_absolute_error: 0.0436\n",
      "Epoch 12/50\n",
      " - 1s - loss: 0.0048 - mean_squared_error: 0.0048 - mean_absolute_error: 0.0429 - val_loss: 0.0048 - val_mean_squared_error: 0.0048 - val_mean_absolute_error: 0.0410\n",
      "Epoch 13/50\n",
      " - 1s - loss: 0.0047 - mean_squared_error: 0.0047 - mean_absolute_error: 0.0424 - val_loss: 0.0049 - val_mean_squared_error: 0.0049 - val_mean_absolute_error: 0.0414\n",
      "Epoch 14/50\n",
      " - 1s - loss: 0.0045 - mean_squared_error: 0.0045 - mean_absolute_error: 0.0413 - val_loss: 0.0049 - val_mean_squared_error: 0.0049 - val_mean_absolute_error: 0.0423\n",
      "Epoch 15/50\n",
      " - 1s - loss: 0.0046 - mean_squared_error: 0.0046 - mean_absolute_error: 0.0415 - val_loss: 0.0048 - val_mean_squared_error: 0.0048 - val_mean_absolute_error: 0.0421\n",
      "Epoch 16/50\n",
      " - 1s - loss: 0.0044 - mean_squared_error: 0.0044 - mean_absolute_error: 0.0406 - val_loss: 0.0047 - val_mean_squared_error: 0.0047 - val_mean_absolute_error: 0.0400\n",
      "Epoch 17/50\n",
      " - 1s - loss: 0.0045 - mean_squared_error: 0.0045 - mean_absolute_error: 0.0407 - val_loss: 0.0051 - val_mean_squared_error: 0.0051 - val_mean_absolute_error: 0.0425\n",
      "Epoch 18/50\n",
      " - 1s - loss: 0.0045 - mean_squared_error: 0.0045 - mean_absolute_error: 0.0415 - val_loss: 0.0048 - val_mean_squared_error: 0.0048 - val_mean_absolute_error: 0.0412\n",
      "Epoch 19/50\n",
      " - 2s - loss: 0.0047 - mean_squared_error: 0.0047 - mean_absolute_error: 0.0425 - val_loss: 0.0049 - val_mean_squared_error: 0.0049 - val_mean_absolute_error: 0.0403\n",
      "Epoch 20/50\n",
      " - 1s - loss: 0.0044 - mean_squared_error: 0.0044 - mean_absolute_error: 0.0403 - val_loss: 0.0048 - val_mean_squared_error: 0.0048 - val_mean_absolute_error: 0.0406\n",
      "Epoch 21/50\n",
      " - 1s - loss: 0.0045 - mean_squared_error: 0.0045 - mean_absolute_error: 0.0408 - val_loss: 0.0050 - val_mean_squared_error: 0.0050 - val_mean_absolute_error: 0.0415\n",
      "Epoch 22/50\n",
      " - 1s - loss: 0.0043 - mean_squared_error: 0.0043 - mean_absolute_error: 0.0401 - val_loss: 0.0051 - val_mean_squared_error: 0.0051 - val_mean_absolute_error: 0.0442\n",
      "Epoch 23/50\n",
      " - 1s - loss: 0.0044 - mean_squared_error: 0.0044 - mean_absolute_error: 0.0406 - val_loss: 0.0049 - val_mean_squared_error: 0.0049 - val_mean_absolute_error: 0.0417\n",
      "Epoch 24/50\n",
      " - 1s - loss: 0.0043 - mean_squared_error: 0.0043 - mean_absolute_error: 0.0398 - val_loss: 0.0051 - val_mean_squared_error: 0.0051 - val_mean_absolute_error: 0.0440\n",
      "Epoch 25/50\n",
      " - 1s - loss: 0.0044 - mean_squared_error: 0.0044 - mean_absolute_error: 0.0408 - val_loss: 0.0047 - val_mean_squared_error: 0.0047 - val_mean_absolute_error: 0.0399\n",
      "Epoch 26/50\n",
      " - 1s - loss: 0.0042 - mean_squared_error: 0.0042 - mean_absolute_error: 0.0392 - val_loss: 0.0053 - val_mean_squared_error: 0.0053 - val_mean_absolute_error: 0.0433\n",
      "Epoch 27/50\n",
      " - 1s - loss: 0.0045 - mean_squared_error: 0.0045 - mean_absolute_error: 0.0411 - val_loss: 0.0051 - val_mean_squared_error: 0.0051 - val_mean_absolute_error: 0.0444\n",
      "Epoch 28/50\n",
      " - 1s - loss: 0.0043 - mean_squared_error: 0.0043 - mean_absolute_error: 0.0396 - val_loss: 0.0049 - val_mean_squared_error: 0.0049 - val_mean_absolute_error: 0.0414\n",
      "Epoch 29/50\n",
      " - 1s - loss: 0.0044 - mean_squared_error: 0.0044 - mean_absolute_error: 0.0406 - val_loss: 0.0049 - val_mean_squared_error: 0.0049 - val_mean_absolute_error: 0.0417\n",
      "Epoch 30/50\n",
      " - 2s - loss: 0.0043 - mean_squared_error: 0.0043 - mean_absolute_error: 0.0401 - val_loss: 0.0048 - val_mean_squared_error: 0.0048 - val_mean_absolute_error: 0.0401\n",
      "Epoch 31/50\n",
      " - 1s - loss: 0.0042 - mean_squared_error: 0.0042 - mean_absolute_error: 0.0396 - val_loss: 0.0047 - val_mean_squared_error: 0.0047 - val_mean_absolute_error: 0.0404\n",
      "Epoch 32/50\n",
      " - 2s - loss: 0.0043 - mean_squared_error: 0.0043 - mean_absolute_error: 0.0404 - val_loss: 0.0048 - val_mean_squared_error: 0.0048 - val_mean_absolute_error: 0.0427\n",
      "Epoch 33/50\n",
      " - 2s - loss: 0.0042 - mean_squared_error: 0.0042 - mean_absolute_error: 0.0392 - val_loss: 0.0050 - val_mean_squared_error: 0.0050 - val_mean_absolute_error: 0.0403\n",
      "Epoch 34/50\n",
      " - 2s - loss: 0.0041 - mean_squared_error: 0.0041 - mean_absolute_error: 0.0388 - val_loss: 0.0052 - val_mean_squared_error: 0.0052 - val_mean_absolute_error: 0.0438\n",
      "Epoch 35/50\n",
      " - 2s - loss: 0.0041 - mean_squared_error: 0.0041 - mean_absolute_error: 0.0389 - val_loss: 0.0048 - val_mean_squared_error: 0.0048 - val_mean_absolute_error: 0.0405\n",
      "Epoch 36/50\n",
      " - 2s - loss: 0.0041 - mean_squared_error: 0.0041 - mean_absolute_error: 0.0390 - val_loss: 0.0047 - val_mean_squared_error: 0.0047 - val_mean_absolute_error: 0.0391\n",
      "Epoch 37/50\n",
      " - 2s - loss: 0.0043 - mean_squared_error: 0.0043 - mean_absolute_error: 0.0401 - val_loss: 0.0054 - val_mean_squared_error: 0.0054 - val_mean_absolute_error: 0.0460\n",
      "Epoch 38/50\n",
      " - 2s - loss: 0.0041 - mean_squared_error: 0.0041 - mean_absolute_error: 0.0390 - val_loss: 0.0047 - val_mean_squared_error: 0.0047 - val_mean_absolute_error: 0.0413\n",
      "Epoch 39/50\n",
      " - 2s - loss: 0.0040 - mean_squared_error: 0.0040 - mean_absolute_error: 0.0383 - val_loss: 0.0048 - val_mean_squared_error: 0.0048 - val_mean_absolute_error: 0.0395\n",
      "Epoch 40/50\n",
      " - 2s - loss: 0.0044 - mean_squared_error: 0.0044 - mean_absolute_error: 0.0405 - val_loss: 0.0049 - val_mean_squared_error: 0.0049 - val_mean_absolute_error: 0.0402\n",
      "Epoch 41/50\n",
      " - 2s - loss: 0.0040 - mean_squared_error: 0.0040 - mean_absolute_error: 0.0383 - val_loss: 0.0046 - val_mean_squared_error: 0.0046 - val_mean_absolute_error: 0.0387\n",
      "Epoch 42/50\n",
      " - 1s - loss: 0.0040 - mean_squared_error: 0.0040 - mean_absolute_error: 0.0381 - val_loss: 0.0047 - val_mean_squared_error: 0.0047 - val_mean_absolute_error: 0.0398\n",
      "Epoch 43/50\n",
      " - 1s - loss: 0.0040 - mean_squared_error: 0.0040 - mean_absolute_error: 0.0388 - val_loss: 0.0052 - val_mean_squared_error: 0.0052 - val_mean_absolute_error: 0.0428\n",
      "Epoch 44/50\n",
      " - 1s - loss: 0.0040 - mean_squared_error: 0.0040 - mean_absolute_error: 0.0384 - val_loss: 0.0048 - val_mean_squared_error: 0.0048 - val_mean_absolute_error: 0.0401\n",
      "Epoch 45/50\n",
      " - 1s - loss: 0.0039 - mean_squared_error: 0.0039 - mean_absolute_error: 0.0380 - val_loss: 0.0048 - val_mean_squared_error: 0.0048 - val_mean_absolute_error: 0.0401\n",
      "Epoch 46/50\n",
      " - 1s - loss: 0.0040 - mean_squared_error: 0.0040 - mean_absolute_error: 0.0382 - val_loss: 0.0048 - val_mean_squared_error: 0.0048 - val_mean_absolute_error: 0.0414\n",
      "Epoch 47/50\n",
      " - 1s - loss: 0.0041 - mean_squared_error: 0.0041 - mean_absolute_error: 0.0395 - val_loss: 0.0048 - val_mean_squared_error: 0.0048 - val_mean_absolute_error: 0.0400\n",
      "Epoch 48/50\n",
      " - 1s - loss: 0.0039 - mean_squared_error: 0.0039 - mean_absolute_error: 0.0377 - val_loss: 0.0049 - val_mean_squared_error: 0.0049 - val_mean_absolute_error: 0.0405\n",
      "Epoch 49/50\n",
      " - 1s - loss: 0.0039 - mean_squared_error: 0.0039 - mean_absolute_error: 0.0376 - val_loss: 0.0047 - val_mean_squared_error: 0.0047 - val_mean_absolute_error: 0.0401\n",
      "Epoch 50/50\n",
      " - 1s - loss: 0.0039 - mean_squared_error: 0.0039 - mean_absolute_error: 0.0380 - val_loss: 0.0050 - val_mean_squared_error: 0.0050 - val_mean_absolute_error: 0.0416\n"
     ]
    },
    {
     "data": {
      "text/plain": [
       "<keras.callbacks.History at 0x1c606f86508>"
      ]
     },
     "execution_count": 39,
     "metadata": {},
     "output_type": "execute_result"
    }
   ],
   "source": [
    "model.fit(X_train_arr, y_train_arr, validation_data=(X_val_arr, y_val_arr), epochs=50, batch_size=127, verbose=2)"
   ]
  },
  {
   "cell_type": "markdown",
   "metadata": {},
   "source": [
    "#### Let's see the evaluation metrics of the model on the training set."
   ]
  },
  {
   "cell_type": "code",
   "execution_count": 40,
   "metadata": {},
   "outputs": [
    {
     "name": "stdout",
     "output_type": "stream",
     "text": [
      "28194/28194 [==============================] - 1s 47us/step\n",
      "Evaluation Mean Squared Error: 0.003915158861432421\n",
      "Evaluation Mean Absolute Error: 0.03845701188286661\n"
     ]
    }
   ],
   "source": [
    "# Training set\n",
    "score = model.evaluate(X_train_arr, y_train_arr)\n",
    "print('Evaluation Mean Squared Error: {}'.format(score[1]))\n",
    "print('Evaluation Mean Absolute Error: {}'.format(score[2]))"
   ]
  },
  {
   "cell_type": "markdown",
   "metadata": {},
   "source": [
    "The algorithm looks promising. In the __Model Training__ step I will try to improve its performance"
   ]
  },
  {
   "cell_type": "markdown",
   "metadata": {},
   "source": [
    "#### Let's save the model configuration only"
   ]
  },
  {
   "cell_type": "code",
   "execution_count": 41,
   "metadata": {},
   "outputs": [],
   "source": [
    "from keras.models import model_from_json\n",
    "import json"
   ]
  },
  {
   "cell_type": "code",
   "execution_count": 42,
   "metadata": {},
   "outputs": [],
   "source": [
    "traffic_volume_dl_model_json = model.to_json()\n",
    "with open('traffic_volume_dl_model.json', 'w') as outfile:\n",
    "    json.dump(traffic_volume_dl_model_json, outfile)"
   ]
  },
  {
   "cell_type": "markdown",
   "metadata": {},
   "source": [
    "#### Finally, let's save the final dataframe all the training, validation and testing dataframes in __parquet__ format for future use."
   ]
  },
  {
   "cell_type": "code",
   "execution_count": 43,
   "metadata": {},
   "outputs": [],
   "source": [
    "df = df.repartition(1)\n",
    "df.write.parquet('traffic_volume_df_norm.parquet')\n",
    "df_train = df_train.repartition(1)\n",
    "df_train.write.parquet('traffic_volume_df_train.parquet')\n",
    "df_val = df_val.repartition(1)\n",
    "df_val.write.parquet('traffic_volume_df_val.parquet')\n",
    "df_test = df_test.repartition(1)\n",
    "df_test.write.parquet('traffic_volume_df_test.parquet')"
   ]
  },
  {
   "cell_type": "markdown",
   "metadata": {},
   "source": [
    "## __Summary__"
   ]
  },
  {
   "cell_type": "markdown",
   "metadata": {},
   "source": [
    "We now have defined the initial non deep learning and a deep leerning algorithm for our non-linear regression problem and saved them in:\n",
    "__rfr_model_pl.pkl__ and __traffic_volume_dl_model.json__\n",
    "\n",
    "We have also saved the final dataframe and the taining, validation and testing data sets in:__traffic_volume_df_norm.parquet__, __traffic_volume_df_train.parquet__, __traffic_volume_df_val.parquet__ and __traffic_volume_df_test.parquet__ to use them in the next steps\n",
    "\n",
    "The Pipeline and the non-linear algorithm will be taken to the next steps where the algorithms will be trained"
   ]
  }
 ],
 "metadata": {
  "kernelspec": {
   "display_name": "Python 3",
   "language": "python",
   "name": "python3"
  },
  "language_info": {
   "codemirror_mode": {
    "name": "ipython",
    "version": 3
   },
   "file_extension": ".py",
   "mimetype": "text/x-python",
   "name": "python",
   "nbconvert_exporter": "python",
   "pygments_lexer": "ipython3",
   "version": "3.7.4"
  },
  "widgets": {
   "application/vnd.jupyter.widget-state+json": {
    "state": {},
    "version_major": 2,
    "version_minor": 0
   }
  }
 },
 "nbformat": 4,
 "nbformat_minor": 4
}
