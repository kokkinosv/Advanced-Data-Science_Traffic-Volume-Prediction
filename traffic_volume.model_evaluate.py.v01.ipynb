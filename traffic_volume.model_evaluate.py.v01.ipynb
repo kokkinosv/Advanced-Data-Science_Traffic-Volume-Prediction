{
 "cells": [
  {
   "cell_type": "markdown",
   "metadata": {},
   "source": [
    "# __Traffic Volume Prediction__\n",
    "<h2 align=\"center\"><b>Advanced Data Science Capstone Poject by</b></h2>\n",
    "<h2 align=\"center\"><b>IBM / Coursera</b></h1>\n",
    "<h2 align=center>Vasilis Kokkinos (September 2019)</h2>"
   ]
  },
  {
   "cell_type": "markdown",
   "metadata": {},
   "source": [
    " ## Introduction / Business Problem"
   ]
  },
  {
   "cell_type": "markdown",
   "metadata": {},
   "source": [
    "USE CASE: Predictive model of traffic volume. It can be used as template for similar situations.\n",
    "\n",
    "DATA SET: Metro Interstate Traffic Volume Data Set\n",
    "Hourly Interstate 94 Westbound traffic volume for MN DoT ATR station 301, roughly midway between Minneapolis and St Paul, MN. Hourly weather features and holidays included for impacts on traffic volume.\n",
    "\n",
    "Source: https://archive.ics.uci.edu/ml/datasets/Metro+Interstate+Traffic+Volume\n",
    "\n"
   ]
  },
  {
   "cell_type": "markdown",
   "metadata": {},
   "source": [
    "### __Attribute Information:__\n",
    "\n",
    "__holiday:__ Categorical US National holidays plus regional holiday, Minnesota State Fair\n",
    "\n",
    "__temp:__ Numeric Average temp in kelvin\n",
    "\n",
    "__rain_1h:__ Numeric Amount in mm of rain that occurred in the hour\n",
    "\n",
    "__snow_1h:__ Numeric Amount in mm of snow that occurred in the hour\n",
    "\n",
    "__clouds_all:__ Numeric Percentage of cloud cover\n",
    "\n",
    "__weather_main:__ Categorical Short textual description of the current weather\n",
    "\n",
    "__weather_description:__ Categorical Longer textual description of the current weather\n",
    "\n",
    "__date_time:__ DateTime Hour of the data collected in local CST time\n",
    "\n",
    "__traffic_volume:__ Numeric Hourly I-94 ATR 301 reported westbound traffic volume"
   ]
  },
  {
   "cell_type": "markdown",
   "metadata": {},
   "source": [
    "------------------------------------------------------------------------------------------------------"
   ]
  },
  {
   "cell_type": "markdown",
   "metadata": {},
   "source": [
    "#### __Model Training__ was performed in the previous step in the notebook __traffic_volume.model_train.py.v01.ipynb__\n",
    "\n",
    "In that step:\n",
    "* The algorithms for non deep learning and deep learning models were reviewed and changed for better performance\n",
    "* For non deep learning the __GBTRegressor__ model was chosen with performance __R-squared__ score __0.9982__ on the training set\n",
    "* For deep learning a __Keras Sequential model__ was created with __11 Dense layers__ and perrormance __Mean Squared Error__ score around __0.0017__ on the training set\n",
    "    * The __Kernel initializer VarianceScaling__ was used with __uniform__ distribution\n",
    "    * The __Nadam optimizer__ was used for model compilation\n",
    "The resulting alogorithms were saved and they will be used in the current notebook\n",
    "    \n",
    "This notebook, is the __Model Evaluation__ step where the models will be evaluated against the validation and test data sets."
   ]
  },
  {
   "cell_type": "markdown",
   "metadata": {},
   "source": [
    "--------------------------------------------------------------------------------------------"
   ]
  },
  {
   "cell_type": "markdown",
   "metadata": {},
   "source": [
    "Import necessary packages, initialize Apache Spark session, and add supporting functions"
   ]
  },
  {
   "cell_type": "code",
   "execution_count": 1,
   "metadata": {},
   "outputs": [],
   "source": [
    "from pyspark import SparkContext\n",
    "from pyspark.sql import SQLContext\n",
    "from pyspark.sql import SparkSession\n",
    "from pyspark.sql import functions as F\n",
    "\n",
    "import numpy as np\n",
    "\n",
    "import matplotlib.pyplot as plt\n",
    "%matplotlib inline\n",
    "plt.rcParams.update({'font.size': 12})"
   ]
  },
  {
   "cell_type": "code",
   "execution_count": 2,
   "metadata": {},
   "outputs": [
    {
     "data": {
      "text/html": [
       "\n",
       "            <div>\n",
       "                <p><b>SparkSession - in-memory</b></p>\n",
       "                \n",
       "        <div>\n",
       "            <p><b>SparkContext</b></p>\n",
       "\n",
       "            <p><a href=\"http://192.168.44.1:4041\">Spark UI</a></p>\n",
       "\n",
       "            <dl>\n",
       "              <dt>Version</dt>\n",
       "                <dd><code>v2.4.4</code></dd>\n",
       "              <dt>Master</dt>\n",
       "                <dd><code>local[*]</code></dd>\n",
       "              <dt>AppName</dt>\n",
       "                <dd><code>Traffic Volume Prediction</code></dd>\n",
       "            </dl>\n",
       "        </div>\n",
       "        \n",
       "            </div>\n",
       "        "
      ],
      "text/plain": [
       "<pyspark.sql.session.SparkSession at 0x179b6d5f188>"
      ]
     },
     "execution_count": 2,
     "metadata": {},
     "output_type": "execute_result"
    }
   ],
   "source": [
    "spark = SparkSession.builder.appName('Traffic Volume Prediction').getOrCreate()\n",
    "\n",
    "# Create an sql context so that we can query data files in sql like syntax\n",
    "sqlContext = SQLContext(spark)\n",
    "spark"
   ]
  },
  {
   "cell_type": "markdown",
   "metadata": {},
   "source": [
    "#### __Read in the training, validation and test data sets__"
   ]
  },
  {
   "cell_type": "code",
   "execution_count": 3,
   "metadata": {},
   "outputs": [],
   "source": [
    "df_train = spark.read.parquet('traffic_volume_df_train.parquet')\n",
    "df_val = spark.read.parquet('traffic_volume_df_val.parquet')\n",
    "df_test = spark.read.parquet('traffic_volume_df_test.parquet')"
   ]
  },
  {
   "cell_type": "code",
   "execution_count": 4,
   "metadata": {},
   "outputs": [
    {
     "name": "stdout",
     "output_type": "stream",
     "text": [
      "root\n",
      " |-- temp: double (nullable = true)\n",
      " |-- rain_1h: double (nullable = true)\n",
      " |-- snow_1h: double (nullable = true)\n",
      " |-- clouds_all: integer (nullable = true)\n",
      " |-- traffic_volume: integer (nullable = true)\n",
      " |-- month: integer (nullable = true)\n",
      " |-- day_of_week: integer (nullable = true)\n",
      " |-- hour_of_day: integer (nullable = true)\n",
      " |-- holidayIndex: integer (nullable = true)\n",
      " |-- weatherMainIndex: integer (nullable = true)\n",
      " |-- weatherDescIndex: integer (nullable = true)\n",
      " |-- features: vector (nullable = true)\n",
      " |-- features_norm: vector (nullable = true)\n",
      " |-- temp_Norm: double (nullable = true)\n",
      " |-- rain_1h_Norm: double (nullable = true)\n",
      " |-- snow_1h_Norm: double (nullable = true)\n",
      " |-- clouds_all_Norm: double (nullable = true)\n",
      " |-- traffic_volume_Norm: double (nullable = true)\n",
      " |-- month_Norm: double (nullable = true)\n",
      " |-- day_of_week_Norm: double (nullable = true)\n",
      " |-- hour_of_day_Norm: double (nullable = true)\n",
      " |-- holidayIndex_Norm: double (nullable = true)\n",
      " |-- weatherMainIndex_Norm: double (nullable = true)\n",
      " |-- weatherDescIndex_Norm: double (nullable = true)\n",
      "\n"
     ]
    }
   ],
   "source": [
    "df_train.createOrReplaceTempView('df_train')\n",
    "df_train.printSchema()"
   ]
  },
  {
   "cell_type": "code",
   "execution_count": 5,
   "metadata": {},
   "outputs": [
    {
     "name": "stdout",
     "output_type": "stream",
     "text": [
      "root\n",
      " |-- temp: double (nullable = true)\n",
      " |-- rain_1h: double (nullable = true)\n",
      " |-- snow_1h: double (nullable = true)\n",
      " |-- clouds_all: integer (nullable = true)\n",
      " |-- traffic_volume: integer (nullable = true)\n",
      " |-- month: integer (nullable = true)\n",
      " |-- day_of_week: integer (nullable = true)\n",
      " |-- hour_of_day: integer (nullable = true)\n",
      " |-- holidayIndex: integer (nullable = true)\n",
      " |-- weatherMainIndex: integer (nullable = true)\n",
      " |-- weatherDescIndex: integer (nullable = true)\n",
      " |-- features: vector (nullable = true)\n",
      " |-- features_norm: vector (nullable = true)\n",
      " |-- temp_Norm: double (nullable = true)\n",
      " |-- rain_1h_Norm: double (nullable = true)\n",
      " |-- snow_1h_Norm: double (nullable = true)\n",
      " |-- clouds_all_Norm: double (nullable = true)\n",
      " |-- traffic_volume_Norm: double (nullable = true)\n",
      " |-- month_Norm: double (nullable = true)\n",
      " |-- day_of_week_Norm: double (nullable = true)\n",
      " |-- hour_of_day_Norm: double (nullable = true)\n",
      " |-- holidayIndex_Norm: double (nullable = true)\n",
      " |-- weatherMainIndex_Norm: double (nullable = true)\n",
      " |-- weatherDescIndex_Norm: double (nullable = true)\n",
      "\n"
     ]
    }
   ],
   "source": [
    "df_val.createOrReplaceTempView('df_val')\n",
    "df_val.printSchema()"
   ]
  },
  {
   "cell_type": "code",
   "execution_count": 6,
   "metadata": {},
   "outputs": [
    {
     "name": "stdout",
     "output_type": "stream",
     "text": [
      "root\n",
      " |-- temp: double (nullable = true)\n",
      " |-- rain_1h: double (nullable = true)\n",
      " |-- snow_1h: double (nullable = true)\n",
      " |-- clouds_all: integer (nullable = true)\n",
      " |-- traffic_volume: integer (nullable = true)\n",
      " |-- month: integer (nullable = true)\n",
      " |-- day_of_week: integer (nullable = true)\n",
      " |-- hour_of_day: integer (nullable = true)\n",
      " |-- holidayIndex: integer (nullable = true)\n",
      " |-- weatherMainIndex: integer (nullable = true)\n",
      " |-- weatherDescIndex: integer (nullable = true)\n",
      " |-- features: vector (nullable = true)\n",
      " |-- features_norm: vector (nullable = true)\n",
      " |-- temp_Norm: double (nullable = true)\n",
      " |-- rain_1h_Norm: double (nullable = true)\n",
      " |-- snow_1h_Norm: double (nullable = true)\n",
      " |-- clouds_all_Norm: double (nullable = true)\n",
      " |-- traffic_volume_Norm: double (nullable = true)\n",
      " |-- month_Norm: double (nullable = true)\n",
      " |-- day_of_week_Norm: double (nullable = true)\n",
      " |-- hour_of_day_Norm: double (nullable = true)\n",
      " |-- holidayIndex_Norm: double (nullable = true)\n",
      " |-- weatherMainIndex_Norm: double (nullable = true)\n",
      " |-- weatherDescIndex_Norm: double (nullable = true)\n",
      "\n"
     ]
    }
   ],
   "source": [
    "df_test.createOrReplaceTempView('df_test')\n",
    "df_test.printSchema()"
   ]
  },
  {
   "cell_type": "markdown",
   "metadata": {},
   "source": [
    "## Basic data set checks\n",
    "For each initial column of the training data frame (and the ones that will be used in this step), there is a corresponding normalized column with the suffix __'_NORM'__\n",
    "\n",
    "A vector column __'features_norm'__ will be used for the non deep learning algorithm. All other independent features will be used for the deep learning algorithm"
   ]
  },
  {
   "cell_type": "code",
   "execution_count": 7,
   "metadata": {},
   "outputs": [
    {
     "name": "stdout",
     "output_type": "stream",
     "text": [
      "+------+-------+-------+----------+--------------+-----+-----------+-----------+------------+----------------+----------------+---------------------------------------------+-------------------------------------------------------------------------+---------+------------+------------+---------------+-------------------+----------+----------------+----------------+-----------------+---------------------+---------------------+\n",
      "|temp  |rain_1h|snow_1h|clouds_all|traffic_volume|month|day_of_week|hour_of_day|holidayIndex|weatherMainIndex|weatherDescIndex|features                                     |features_norm                                                            |temp_Norm|rain_1h_Norm|snow_1h_Norm|clouds_all_Norm|traffic_volume_Norm|month_Norm|day_of_week_Norm|hour_of_day_Norm|holidayIndex_Norm|weatherMainIndex_Norm|weatherDescIndex_Norm|\n",
      "+------+-------+-------+----------+--------------+-----+-----------+-----------+------------+----------------+----------------+---------------------------------------------+-------------------------------------------------------------------------+---------+------------+------------+---------------+-------------------+----------+----------------+----------------+-----------------+---------------------+---------------------+\n",
      "|243.39|0.0    |0.0    |1         |1462          |12   |7          |8          |0           |5               |9               |[243.39,0.0,0.0,1.0,12.0,7.0,8.0,0.0,5.0,9.0]|[0.0,0.0,0.0,0.01,1.0,1.0,0.34782608695652173,0.0,0.5,0.2727272727272727]|0.0      |0.0         |0.0         |0.01           |0.2008242          |1.0       |1.0             |0.3478261       |0.0              |0.5                  |0.2727273            |\n",
      "+------+-------+-------+----------+--------------+-----+-----------+-----------+------------+----------------+----------------+---------------------------------------------+-------------------------------------------------------------------------+---------+------------+------------+---------------+-------------------+----------+----------------+----------------+-----------------+---------------------+---------------------+\n",
      "only showing top 1 row\n",
      "\n"
     ]
    }
   ],
   "source": [
    "df_train.show(1, truncate=False)"
   ]
  },
  {
   "cell_type": "code",
   "execution_count": 8,
   "metadata": {},
   "outputs": [
    {
     "name": "stdout",
     "output_type": "stream",
     "text": [
      "+------+-------+-------+----------+--------------+-----+-----------+-----------+------------+----------------+----------------+---------------------------------------------+--------------------------------------------------------------------------------------------------------------------------+---------+------------+------------+---------------+-------------------+----------+----------------+----------------+-----------------+---------------------+---------------------+\n",
      "|temp  |rain_1h|snow_1h|clouds_all|traffic_volume|month|day_of_week|hour_of_day|holidayIndex|weatherMainIndex|weatherDescIndex|features                                     |features_norm                                                                                                             |temp_Norm|rain_1h_Norm|snow_1h_Norm|clouds_all_Norm|traffic_volume_Norm|month_Norm|day_of_week_Norm|hour_of_day_Norm|holidayIndex_Norm|weatherMainIndex_Norm|weatherDescIndex_Norm|\n",
      "+------+-------+-------+----------+--------------+-----+-----------+-----------+------------+----------------+----------------+---------------------------------------------+--------------------------------------------------------------------------------------------------------------------------+---------+------------+------------+---------------+-------------------+----------+----------------+----------------+-----------------+---------------------+---------------------+\n",
      "|244.82|0.0    |0.0    |11        |678           |2    |6          |5          |0           |0               |6               |[244.82,0.0,0.0,11.0,2.0,6.0,5.0,0.0,0.0,6.0]|[0.021445710857828534,0.0,0.0,0.11,0.09090909090909091,0.8333333333333334,0.21739130434782608,0.0,0.0,0.18181818181818182]|0.0214457|0.0         |0.0         |0.11           |0.0931319          |0.0909091 |0.8333333       |0.2173913       |0.0              |0.0                  |0.1818182            |\n",
      "+------+-------+-------+----------+--------------+-----+-----------+-----------+------------+----------------+----------------+---------------------------------------------+--------------------------------------------------------------------------------------------------------------------------+---------+------------+------------+---------------+-------------------+----------+----------------+----------------+-----------------+---------------------+---------------------+\n",
      "only showing top 1 row\n",
      "\n"
     ]
    }
   ],
   "source": [
    "df_val.show(1, truncate=False)"
   ]
  },
  {
   "cell_type": "code",
   "execution_count": 9,
   "metadata": {},
   "outputs": [
    {
     "name": "stdout",
     "output_type": "stream",
     "text": [
      "+------+-------+-------+----------+--------------+-----+-----------+-----------+------------+----------------+----------------+---------------------------------------------+--------------------------------------------------------------------------------------------------------------------------+---------+------------+------------+---------------+-------------------+----------+----------------+----------------+-----------------+---------------------+---------------------+\n",
      "|temp  |rain_1h|snow_1h|clouds_all|traffic_volume|month|day_of_week|hour_of_day|holidayIndex|weatherMainIndex|weatherDescIndex|features                                     |features_norm                                                                                                             |temp_Norm|rain_1h_Norm|snow_1h_Norm|clouds_all_Norm|traffic_volume_Norm|month_Norm|day_of_week_Norm|hour_of_day_Norm|holidayIndex_Norm|weatherMainIndex_Norm|weatherDescIndex_Norm|\n",
      "+------+-------+-------+----------+--------------+-----+-----------+-----------+------------+----------------+----------------+---------------------------------------------+--------------------------------------------------------------------------------------------------------------------------+---------+------------+------------+---------------+-------------------+----------+----------------+----------------+-----------------+---------------------+---------------------+\n",
      "|244.82|0.0    |0.0    |11        |417           |2    |6          |4          |0           |0               |6               |[244.82,0.0,0.0,11.0,2.0,6.0,4.0,0.0,0.0,6.0]|[0.021445710857828534,0.0,0.0,0.11,0.09090909090909091,0.8333333333333334,0.17391304347826086,0.0,0.0,0.18181818181818182]|0.0214457|0.0         |0.0         |0.11           |0.0572802          |0.0909091 |0.8333333       |0.173913        |0.0              |0.0                  |0.1818182            |\n",
      "+------+-------+-------+----------+--------------+-----+-----------+-----------+------------+----------------+----------------+---------------------------------------------+--------------------------------------------------------------------------------------------------------------------------+---------+------------+------------+---------------+-------------------+----------+----------------+----------------+-----------------+---------------------+---------------------+\n",
      "only showing top 1 row\n",
      "\n"
     ]
    }
   ],
   "source": [
    "df_test.show(1, truncate=False)"
   ]
  },
  {
   "cell_type": "code",
   "execution_count": 10,
   "metadata": {},
   "outputs": [
    {
     "name": "stdout",
     "output_type": "stream",
     "text": [
      "Number of rows in the training dataframe: 28194\n"
     ]
    }
   ],
   "source": [
    "print('Number of rows in the training dataframe: {}'.format(df_train.count()))"
   ]
  },
  {
   "cell_type": "code",
   "execution_count": 11,
   "metadata": {},
   "outputs": [
    {
     "name": "stdout",
     "output_type": "stream",
     "text": [
      "Number of rows in the validation dataframe: 8266\n"
     ]
    }
   ],
   "source": [
    "print('Number of rows in the validation dataframe: {}'.format(df_val.count()))"
   ]
  },
  {
   "cell_type": "code",
   "execution_count": 12,
   "metadata": {},
   "outputs": [
    {
     "name": "stdout",
     "output_type": "stream",
     "text": [
      "Number of rows in the test dataframe: 4109\n"
     ]
    }
   ],
   "source": [
    "print('Number of rows in the test dataframe: {}'.format(df_test.count()))"
   ]
  },
  {
   "cell_type": "markdown",
   "metadata": {},
   "source": [
    "## __NON DEEP LEARNING MODEL EVALUATION__"
   ]
  },
  {
   "cell_type": "markdown",
   "metadata": {},
   "source": [
    "Let's import the pipeline for the model"
   ]
  },
  {
   "cell_type": "code",
   "execution_count": 13,
   "metadata": {},
   "outputs": [],
   "source": [
    "from pyspark.ml import Pipeline\n",
    "from pyspark.ml.evaluation import RegressionEvaluator"
   ]
  },
  {
   "cell_type": "code",
   "execution_count": 14,
   "metadata": {},
   "outputs": [
    {
     "data": {
      "text/plain": [
       "[GBTRegressor_ca150846b344]"
      ]
     },
     "execution_count": 14,
     "metadata": {},
     "output_type": "execute_result"
    }
   ],
   "source": [
    "gbt_model_pl = Pipeline.load('gbt_model_pl.pkl')\n",
    "gbt_model_pl.getStages()"
   ]
  },
  {
   "cell_type": "markdown",
   "metadata": {},
   "source": [
    "The pipeline contains only one stage, a __GBTRegressor__. Let's extract the model and check its parameters."
   ]
  },
  {
   "cell_type": "code",
   "execution_count": 15,
   "metadata": {},
   "outputs": [
    {
     "name": "stdout",
     "output_type": "stream",
     "text": [
      "GBTRegressor_ca150846b344__cacheNodeIds => False\n",
      "GBTRegressor_ca150846b344__checkpointInterval => 10\n",
      "GBTRegressor_ca150846b344__featureSubsetStrategy => all\n",
      "GBTRegressor_ca150846b344__featuresCol => features_norm\n",
      "GBTRegressor_ca150846b344__impurity => variance\n",
      "GBTRegressor_ca150846b344__labelCol => traffic_volume\n",
      "GBTRegressor_ca150846b344__lossType => squared\n",
      "GBTRegressor_ca150846b344__maxBins => 32\n",
      "GBTRegressor_ca150846b344__maxDepth => 20\n",
      "GBTRegressor_ca150846b344__maxIter => 20\n",
      "GBTRegressor_ca150846b344__maxMemoryInMB => 256\n",
      "GBTRegressor_ca150846b344__minInfoGain => 0.0\n",
      "GBTRegressor_ca150846b344__minInstancesPerNode => 1\n",
      "GBTRegressor_ca150846b344__predictionCol => prediction\n",
      "GBTRegressor_ca150846b344__seed => -1531700132958279692\n",
      "GBTRegressor_ca150846b344__stepSize => 0.1\n",
      "GBTRegressor_ca150846b344__subsamplingRate => 1.0\n"
     ]
    }
   ],
   "source": [
    "gbtRegressor = gbt_model_pl.getStages()[-1]\n",
    "model_params = gbtRegressor.extractParamMap()\n",
    "for param, value in model_params.items():\n",
    "    print(param, '=>', value)"
   ]
  },
  {
   "cell_type": "markdown",
   "metadata": {},
   "source": [
    "Let's now evaluate it against the validation and testing data sets\n",
    "\n",
    "As performance measurement, I will use __R-squared (r2)__"
   ]
  },
  {
   "cell_type": "code",
   "execution_count": 16,
   "metadata": {},
   "outputs": [],
   "source": [
    "evaluator = RegressionEvaluator().setMetricName('r2').setPredictionCol(\"prediction\").setLabelCol(\"traffic_volume\")"
   ]
  },
  {
   "cell_type": "markdown",
   "metadata": {},
   "source": [
    "Let's once more fit and validate the __GBTRegressor__ against the training data set"
   ]
  },
  {
   "cell_type": "code",
   "execution_count": 17,
   "metadata": {},
   "outputs": [
    {
     "name": "stdout",
     "output_type": "stream",
     "text": [
      "\tR-Squared score on training data set:  0.9982753867656707\n"
     ]
    }
   ],
   "source": [
    "ndl_model_gbt = gbtRegressor.fit(df_train)\n",
    "gbt_prediction_train = ndl_model_gbt.transform(df_train)\n",
    "gbt_score_train = evaluator.evaluate(gbt_prediction_train)\n",
    "\n",
    "print('\\tR-Squared score on training data set: ', gbt_score_train)"
   ]
  },
  {
   "cell_type": "markdown",
   "metadata": {},
   "source": [
    "#### Let's evaluate the model with the __validation__ data set"
   ]
  },
  {
   "cell_type": "code",
   "execution_count": 18,
   "metadata": {},
   "outputs": [
    {
     "name": "stdout",
     "output_type": "stream",
     "text": [
      "\tR-Squared score on validation data set: 0.8812956258245708\n"
     ]
    }
   ],
   "source": [
    "gbt_prediction_val = ndl_model_gbt.transform(df_val)\n",
    "gbt_score_val = evaluator.evaluate(gbt_prediction_val)\n",
    "\n",
    "print('\\tR-Squared score on validation data set: {}'.format(gbt_score_val))"
   ]
  },
  {
   "cell_type": "markdown",
   "metadata": {},
   "source": [
    "#### And let's evaluate the model with the __test__ data set"
   ]
  },
  {
   "cell_type": "code",
   "execution_count": 19,
   "metadata": {},
   "outputs": [
    {
     "name": "stdout",
     "output_type": "stream",
     "text": [
      "\tR-Squared score on testing data set:  0.8972105519305972\n"
     ]
    }
   ],
   "source": [
    "gbt_prediction_test = ndl_model_gbt.transform(df_test)\n",
    "gbt_score_test = evaluator.evaluate(gbt_prediction_test)\n",
    "\n",
    "print('\\tR-Squared score on testing data set: ', gbt_score_test)"
   ]
  },
  {
   "cell_type": "markdown",
   "metadata": {},
   "source": [
    "The __GBTRegressor__ model is __ovefitting__ the data. The evaluation scores of the validation and test data sets are not at all close the evaluation score of the training data set\n",
    "\n",
    "Let's run a __Grid Search__ on various values of the __maxDepth__ hyperparameter. Maybe the algorithm's performance will improve against the validation and test data"
   ]
  },
  {
   "cell_type": "code",
   "execution_count": 20,
   "metadata": {},
   "outputs": [
    {
     "name": "stdout",
     "output_type": "stream",
     "text": [
      "\n",
      "For maxDepth = 7:\n",
      "\tR-Squared score on training data set:  0.9546136611680724\n",
      "\tR-Squared score on validation data set:  0.9425498502760152\n",
      "\tR-Squared score on test data set:  0.9489827341657071\n",
      "\n",
      "For maxDepth = 8:\n",
      "\tR-Squared score on training data set:  0.9602654012046449\n",
      "\tR-Squared score on validation data set:  0.9428650977146027\n",
      "\tR-Squared score on test data set:  0.9501773184406206\n",
      "\n",
      "For maxDepth = 9:\n",
      "\tR-Squared score on training data set:  0.9660220878010036\n",
      "\tR-Squared score on validation data set:  0.9439811478586418\n",
      "\tR-Squared score on test data set:  0.95062736354676\n",
      "\n",
      "For maxDepth = 10:\n",
      "\tR-Squared score on training data set:  0.97370330958444\n",
      "\tR-Squared score on validation data set:  0.9395311018605452\n",
      "\tR-Squared score on test data set:  0.9472147149483373\n",
      "\n",
      "For maxDepth = 11:\n",
      "\tR-Squared score on training data set:  0.9787024140888737\n",
      "\tR-Squared score on validation data set:  0.9341464417759491\n",
      "\tR-Squared score on test data set:  0.9443783842869977\n",
      "\n",
      "For maxDepth = 12:\n",
      "\tR-Squared score on training data set:  0.9834982870775749\n",
      "\tR-Squared score on validation data set:  0.9292324893013358\n",
      "\tR-Squared score on test data set:  0.9410112335064055\n",
      "\n",
      "For maxDepth = 13:\n",
      "\tR-Squared score on training data set:  0.9881348843025355\n",
      "\tR-Squared score on validation data set:  0.9208694911392853\n",
      "\tR-Squared score on test data set:  0.9363495166178006\n",
      "\n",
      "For maxDepth = 14:\n",
      "\tR-Squared score on training data set:  0.9906095524760695\n",
      "\tR-Squared score on validation data set:  0.9122574384416596\n",
      "\tR-Squared score on test data set:  0.9301040580508595\n",
      "\n",
      "For maxDepth = 15:\n",
      "\tR-Squared score on training data set:  0.9934974078543346\n",
      "\tR-Squared score on validation data set:  0.9019560839877887\n",
      "\tR-Squared score on test data set:  0.9189588271452869\n",
      "\n",
      "For maxDepth = 19:\n",
      "\tR-Squared score on training data set:  0.9980894630994839\n",
      "\tR-Squared score on validation data set:  0.8833636148757451\n",
      "\tR-Squared score on test data set:  0.8997516399414592\n",
      "\n",
      "\n"
     ]
    }
   ],
   "source": [
    "maxDepth_list = [7, 8, 9, 10, 11, 12, 13, 14, 15, 19]\n",
    "\n",
    "score_train_list = []\n",
    "score_val_list = []\n",
    "score_test_list = []\n",
    "\n",
    "# maxDepth_arr = np.array(maxDepth_list)\n",
    "# score_arr = np.array(score_list)\n",
    "\n",
    "# Run the Grid Search\n",
    "for maxDepth in maxDepth_list:\n",
    "    print('\\nFor maxDepth = {}:'.format(maxDepth))\n",
    "    \n",
    "    gbtRegressor.set(gbtRegressor.getParam('maxDepth'), maxDepth)\n",
    "    ndl_model_gbt = gbtRegressor.fit(df_train)\n",
    "    \n",
    "    gbt_prediction_train = ndl_model_gbt.transform(df_train)\n",
    "    gbt_score_train = evaluator.evaluate(gbt_prediction_train)\n",
    "    score_train_list.append(gbt_score_train)\n",
    "    \n",
    "    gbt_prediction_val = ndl_model_gbt.transform(df_val)\n",
    "    gbt_score_val = evaluator.evaluate(gbt_prediction_val)\n",
    "    score_val_list.append(gbt_score_val)\n",
    "    \n",
    "    gbt_prediction_test = ndl_model_gbt.transform(df_test)\n",
    "    gbt_score_test = evaluator.evaluate(gbt_prediction_test)\n",
    "    score_test_list.append(gbt_score_test)\n",
    "\n",
    "    print('\\tR-Squared score on training data set: ', gbt_score_train)\n",
    "    print('\\tR-Squared score on validation data set: ', gbt_score_val)\n",
    "    print('\\tR-Squared score on test data set: ', gbt_score_test)\n",
    "print('\\n')"
   ]
  },
  {
   "cell_type": "code",
   "execution_count": 21,
   "metadata": {},
   "outputs": [
    {
     "data": {
      "image/png": "[encoded data removed]",
      "text/plain": [
       "<Figure size 504x504 with 1 Axes>"
      ]
     },
     "metadata": {
      "needs_background": "light"
     },
     "output_type": "display_data"
    },
    {
     "data": {
      "text/plain": [
       "<Figure size 432x288 with 0 Axes>"
      ]
     },
     "metadata": {},
     "output_type": "display_data"
    }
   ],
   "source": [
    "fig = plt.figure(figsize=(7, 7))\n",
    "\n",
    "plt.plot(maxDepth_list, score_train_list, marker='o')\n",
    "plt.plot(maxDepth_list, score_val_list, marker='o')\n",
    "plt.plot(maxDepth_list, score_test_list, marker='o')\n",
    "ax1 = fig.add_subplot(111)\n",
    "plt.title('GBTRegressor evaluation scores')\n",
    "plt.ylabel('R-squared')\n",
    "plt.xlabel('maxDepth')\n",
    "plt.legend(['training', 'valiation', 'test'], loc='right')\n",
    "plt.xlim(6, 20)\n",
    "plt.show()\n",
    "plt.savefig('Rsquared_gbt_evaluations.png')"
   ]
  },
  {
   "cell_type": "markdown",
   "metadata": {},
   "source": [
    "With __maxDepth 9__ the optimum is reached. It is the point where the scores for the validation and test sets are at their highest"
   ]
  },
  {
   "cell_type": "markdown",
   "metadata": {},
   "source": [
    "### __RandomForestRegressor__"
   ]
  },
  {
   "cell_type": "markdown",
   "metadata": {},
   "source": [
    "Let's try once more the initially selected model __RandomForestRegressor__ just in case we get better results"
   ]
  },
  {
   "cell_type": "code",
   "execution_count": 22,
   "metadata": {},
   "outputs": [],
   "source": [
    "from pyspark.ml.regression import RandomForestRegressor"
   ]
  },
  {
   "cell_type": "code",
   "execution_count": 23,
   "metadata": {},
   "outputs": [],
   "source": [
    "rfrRegressor = RandomForestRegressor(featuresCol='features_norm', labelCol='traffic_volume', \\\n",
    "                                     predictionCol='prediction', maxDepth=20)"
   ]
  },
  {
   "cell_type": "code",
   "execution_count": 24,
   "metadata": {},
   "outputs": [
    {
     "name": "stdout",
     "output_type": "stream",
     "text": [
      "\tR-Squared score on training data set:  0.9801170634494042\n"
     ]
    }
   ],
   "source": [
    "ndl_model_rfr = rfrRegressor.fit(df_train)\n",
    "rfr_prediction_train = ndl_model_rfr.transform(df_train)\n",
    "rfr_score_train = evaluator.evaluate(rfr_prediction_train)\n",
    "\n",
    "print('\\tR-Squared score on training data set: ', rfr_score_train)"
   ]
  },
  {
   "cell_type": "code",
   "execution_count": 25,
   "metadata": {},
   "outputs": [
    {
     "name": "stdout",
     "output_type": "stream",
     "text": [
      "\tR-Squared score on validation data set:  0.9434548231875567\n"
     ]
    }
   ],
   "source": [
    "rfr_prediction_val = ndl_model_rfr.transform(df_val)\n",
    "rfr_score_val = evaluator.evaluate(rfr_prediction_val)\n",
    "\n",
    "print('\\tR-Squared score on validation data set: ', rfr_score_val)"
   ]
  },
  {
   "cell_type": "code",
   "execution_count": 26,
   "metadata": {},
   "outputs": [
    {
     "name": "stdout",
     "output_type": "stream",
     "text": [
      "\tR-Squared score on test data set:  0.9504064423930006\n"
     ]
    }
   ],
   "source": [
    "rfr_prediction_test = ndl_model_rfr.transform(df_test)\n",
    "rfr_score_test = evaluator.evaluate(rfr_prediction_test)\n",
    "\n",
    "print('\\tR-Squared score on test data set: ', rfr_score_test)"
   ]
  },
  {
   "cell_type": "markdown",
   "metadata": {},
   "source": [
    "Once more, we will run a __Grid Search__ on the __rfrRegressor__ to find out how the performance is changing on all of the data sets by increasing the maxDepth hyperparameter"
   ]
  },
  {
   "cell_type": "code",
   "execution_count": 27,
   "metadata": {},
   "outputs": [
    {
     "name": "stdout",
     "output_type": "stream",
     "text": [
      "\n",
      "For maxDepth = 14:\n",
      "\tR-Squared score on training data set:  0.9630242995842316\n",
      "\tR-Squared score on validation data set:  0.94091617102998\n",
      "\tR-Squared score on test data set:  0.9471430530342506\n",
      "\n",
      "For maxDepth = 15:\n",
      "\tR-Squared score on training data set:  0.9679204430254837\n",
      "\tR-Squared score on validation data set:  0.9426632847639529\n",
      "\tR-Squared score on test data set:  0.9486546647121459\n",
      "\n",
      "For maxDepth = 16:\n",
      "\tR-Squared score on training data set:  0.9721005316703398\n",
      "\tR-Squared score on validation data set:  0.9436070361622988\n",
      "\tR-Squared score on test data set:  0.9493530918035279\n",
      "\n",
      "For maxDepth = 17:\n",
      "\tR-Squared score on training data set:  0.9751362201853556\n",
      "\tR-Squared score on validation data set:  0.9438704239902105\n",
      "\tR-Squared score on test data set:  0.9500043966610587\n",
      "\n",
      "For maxDepth = 18:\n",
      "\tR-Squared score on training data set:  0.9774573459883079\n",
      "\tR-Squared score on validation data set:  0.9436108976611511\n",
      "\tR-Squared score on test data set:  0.9503390446660297\n",
      "\n",
      "For maxDepth = 19:\n",
      "\tR-Squared score on training data set:  0.9790875490334036\n",
      "\tR-Squared score on validation data set:  0.943461668273821\n",
      "\tR-Squared score on test data set:  0.9504803255937324\n",
      "\n",
      "For maxDepth = 20:\n",
      "\tR-Squared score on training data set:  0.9801170634494042\n",
      "\tR-Squared score on validation data set:  0.9434548231875567\n",
      "\tR-Squared score on test data set:  0.9504064423930006\n",
      "\n",
      "For maxDepth = 21:\n",
      "\tR-Squared score on training data set:  0.9808148448824273\n",
      "\tR-Squared score on validation data set:  0.9433121996076401\n",
      "\tR-Squared score on test data set:  0.9503111272496921\n",
      "\n",
      "For maxDepth = 22:\n",
      "\tR-Squared score on training data set:  0.9812415285584128\n",
      "\tR-Squared score on validation data set:  0.9432010406002233\n",
      "\tR-Squared score on test data set:  0.950210967560154\n",
      "\n",
      "For maxDepth = 23:\n",
      "\tR-Squared score on training data set:  0.9814987448327991\n",
      "\tR-Squared score on validation data set:  0.9431899805116523\n",
      "\tR-Squared score on test data set:  0.9501989893190598\n",
      "\n",
      "For maxDepth = 24:\n",
      "\tR-Squared score on training data set:  0.9816493159067762\n",
      "\tR-Squared score on validation data set:  0.943137337618127\n",
      "\tR-Squared score on test data set:  0.9501954537807181\n",
      "\n",
      "For maxDepth = 25:\n",
      "\tR-Squared score on training data set:  0.9817255821274615\n",
      "\tR-Squared score on validation data set:  0.9431200004720393\n",
      "\tR-Squared score on test data set:  0.9501720937150117\n",
      "\n",
      "\n"
     ]
    }
   ],
   "source": [
    "maxDepth_list = [14, 15, 16, 17, 18, 19, 20, 21, 22, 23, 24, 25]\n",
    "\n",
    "score_train_list = []\n",
    "score_val_list = []\n",
    "score_test_list = []\n",
    "\n",
    "# Run the Grid Search\n",
    "for maxDepth in maxDepth_list:\n",
    "    print('\\nFor maxDepth = {}:'.format(maxDepth))\n",
    "    \n",
    "    rfrRegressor.set(rfrRegressor.getParam('maxDepth'), maxDepth)\n",
    "    ndl_model_rfr = rfrRegressor.fit(df_train)\n",
    "    \n",
    "    rfr_prediction_train = ndl_model_rfr.transform(df_train)\n",
    "    rfr_score_train = evaluator.evaluate(rfr_prediction_train)\n",
    "    score_train_list.append(rfr_score_train)\n",
    "    \n",
    "    rfr_prediction_val = ndl_model_rfr.transform(df_val)\n",
    "    rfr_score_val = evaluator.evaluate(rfr_prediction_val)\n",
    "    score_val_list.append(rfr_score_val)\n",
    "    \n",
    "    rfr_prediction_test = ndl_model_rfr.transform(df_test)\n",
    "    rfr_score_test = evaluator.evaluate(rfr_prediction_test)\n",
    "    score_test_list.append(rfr_score_test)\n",
    "\n",
    "    print('\\tR-Squared score on training data set: ', rfr_score_train)\n",
    "    print('\\tR-Squared score on validation data set: ', rfr_score_val)\n",
    "    print('\\tR-Squared score on test data set: ', rfr_score_test)\n",
    "print('\\n')"
   ]
  },
  {
   "cell_type": "code",
   "execution_count": 28,
   "metadata": {},
   "outputs": [
    {
     "data": {
      "image/png": "[encoded data removed]",
      "text/plain": [
       "<Figure size 504x504 with 1 Axes>"
      ]
     },
     "metadata": {
      "needs_background": "light"
     },
     "output_type": "display_data"
    },
    {
     "data": {
      "text/plain": [
       "<Figure size 432x288 with 0 Axes>"
      ]
     },
     "metadata": {},
     "output_type": "display_data"
    }
   ],
   "source": [
    "fig = plt.figure(figsize=(7, 7))\n",
    "\n",
    "plt.plot(maxDepth_list, score_train_list, marker='o')\n",
    "plt.plot(maxDepth_list, score_val_list, marker='o')\n",
    "plt.plot(maxDepth_list, score_test_list, marker='o')\n",
    "ax1 = fig.add_subplot(111)\n",
    "plt.title('RandomForestRegressor evaluation scores')\n",
    "plt.ylabel('R-squared')\n",
    "plt.xlabel('maxDepth')\n",
    "plt.legend(['training', 'valiation', 'test'], loc='right')\n",
    "plt.xlim(13, 26)\n",
    "plt.show()\n",
    "plt.savefig('Rsquared_rfr_evaluations.png')"
   ]
  },
  {
   "cell_type": "markdown",
   "metadata": {},
   "source": [
    "For the RandomForestRegressor with __maxDepth 20__ the optimum is reached. It is the point where the scores for the validation and test sets are at their highest\n",
    "\n",
    "The results are very similar to the ones of the __GBTRegressor__ for maxDepth 9"
   ]
  },
  {
   "cell_type": "markdown",
   "metadata": {},
   "source": [
    "#### The __GBTRegressor with maxDepth 9__ will be chosen as our __final__ non deep learning algorithm"
   ]
  },
  {
   "cell_type": "markdown",
   "metadata": {},
   "source": [
    "### NON DEEP LEARNING CROSS VALIDATION\n",
    "Next, let's run cross-validation against our __GBTRegressor__ to check how it performs on different combinations of training and data set\n",
    "\n",
    "The model will be recreated and evaluated 3 times against different groups of training and validation data sets"
   ]
  },
  {
   "cell_type": "code",
   "execution_count": 29,
   "metadata": {},
   "outputs": [],
   "source": [
    "from pyspark.ml.regression import GBTRegressor"
   ]
  },
  {
   "cell_type": "code",
   "execution_count": 30,
   "metadata": {},
   "outputs": [],
   "source": [
    "from sklearn.model_selection import train_test_split"
   ]
  },
  {
   "cell_type": "markdown",
   "metadata": {},
   "source": [
    "Read the whole normalized data set that was saved in the __model definition task"
   ]
  },
  {
   "cell_type": "code",
   "execution_count": 31,
   "metadata": {},
   "outputs": [],
   "source": [
    "df_norm = spark.read.parquet('traffic_volume_df_norm.parquet')"
   ]
  },
  {
   "cell_type": "code",
   "execution_count": 32,
   "metadata": {},
   "outputs": [
    {
     "name": "stdout",
     "output_type": "stream",
     "text": [
      "\tR-Squared score on training data set: 0.9660144926186148\n",
      "\tR-Squared score on validation data set: 0.9460752078333213\n",
      "\n",
      "\tR-Squared score on training data set: 0.9656520436802297\n",
      "\tR-Squared score on validation data set: 0.9441421681680303\n",
      "\n",
      "\tR-Squared score on training data set: 0.9654196320577616\n",
      "\tR-Squared score on validation data set: 0.9482240885412011\n",
      "\n"
     ]
    }
   ],
   "source": [
    "n_folds = 3\n",
    "\n",
    "for i in range(n_folds):\n",
    "    # Split data\n",
    "    train, val = df_norm.randomSplit([0.7, 0.3])\n",
    "    gbtRegressor = GBTRegressor(featuresCol='features_norm', labelCol='traffic_volume', \\\n",
    "                                predictionCol='prediction', maxDepth=9)\n",
    "    ndl_model_gbt = gbtRegressor.fit(train)\n",
    "\n",
    "    gbt_prediction_train = ndl_model_gbt.transform(train)\n",
    "    gbt_score_train = evaluator.evaluate(gbt_prediction_train)\n",
    "\n",
    "    gbt_prediction_val = ndl_model_gbt.transform(val)\n",
    "    gbt_score_val = evaluator.evaluate(gbt_prediction_val)\n",
    "\n",
    "    print('\\tR-Squared score on training data set: {}'.format(gbt_score_train))\n",
    "    print('\\tR-Squared score on validation data set: {}\\n'.format(gbt_score_val))"
   ]
  },
  {
   "cell_type": "markdown",
   "metadata": {},
   "source": [
    "The results of the cross-validation are __very similar__ to the evaluation metrics of our saved algorithm"
   ]
  },
  {
   "cell_type": "markdown",
   "metadata": {},
   "source": [
    "#### Let's once again define, fit, the model and check the training, validation and test scores"
   ]
  },
  {
   "cell_type": "code",
   "execution_count": 33,
   "metadata": {},
   "outputs": [],
   "source": [
    "gbtRegressor = GBTRegressor(featuresCol='features_norm', labelCol='traffic_volume', \\\n",
    "                            predictionCol='prediction', maxDepth=9)"
   ]
  },
  {
   "cell_type": "code",
   "execution_count": 34,
   "metadata": {},
   "outputs": [],
   "source": [
    "ndl_model_gbt = gbtRegressor.fit(df_train)\n",
    "\n",
    "gbt_prediction_train = ndl_model_gbt.transform(df_train)\n",
    "gbt_score_train = evaluator.evaluate(gbt_prediction_train)\n",
    "\n",
    "gbt_prediction_val = ndl_model_gbt.transform(df_val)\n",
    "gbt_score_val = evaluator.evaluate(gbt_prediction_val)\n",
    "\n",
    "gbt_prediction_test = ndl_model_gbt.transform(df_test)\n",
    "gbt_score_test = evaluator.evaluate(gbt_prediction_test)"
   ]
  },
  {
   "cell_type": "code",
   "execution_count": 35,
   "metadata": {},
   "outputs": [
    {
     "name": "stdout",
     "output_type": "stream",
     "text": [
      "\tR-Squared score on training data set: 0.9660220878010036\n",
      "\tR-Squared score on validation data set: 0.9439811478586418\n",
      "\tR-Squared score on test data set: 0.95062736354676\n"
     ]
    }
   ],
   "source": [
    "print('\\tR-Squared score on training data set: {}'.format(gbt_score_train))\n",
    "print('\\tR-Squared score on validation data set: {}'.format(gbt_score_val))\n",
    "print('\\tR-Squared score on test data set: {}'.format(gbt_score_test))"
   ]
  },
  {
   "cell_type": "markdown",
   "metadata": {},
   "source": [
    "#### Now, let's save our final trained model to __'trained_gbt'__ so that it is readily avaibable for use.\n",
    "It can be then reloaded using __GBTRegressionModel__ from __pyspark.ml.regression__"
   ]
  },
  {
   "cell_type": "code",
   "execution_count": 36,
   "metadata": {},
   "outputs": [],
   "source": [
    "ndl_model_gbt.write().overwrite().save('trained_gbt')"
   ]
  },
  {
   "cell_type": "markdown",
   "metadata": {},
   "source": [
    "#### Finally, et's also see some actual results from our algorithm on all three data sets with treir corresponding actual values"
   ]
  },
  {
   "cell_type": "code",
   "execution_count": 37,
   "metadata": {},
   "outputs": [
    {
     "name": "stdout",
     "output_type": "stream",
     "text": [
      "+--------------+------------------+\n",
      "|traffic_volume|prediction        |\n",
      "+--------------+------------------+\n",
      "|1462          |1563.670486960197 |\n",
      "|1037          |1127.148247825417 |\n",
      "|800           |690.7558869200066 |\n",
      "|354           |320.4750578495383 |\n",
      "|459           |431.319930836141  |\n",
      "|1909          |1784.0818640558932|\n",
      "|2689          |2591.709787085103 |\n",
      "|472           |494.58909921253075|\n",
      "|2384          |2399.7232285610826|\n",
      "|3706          |3555.7096964948264|\n",
      "|4611          |4911.869128560284 |\n",
      "|4748          |4689.781293669676 |\n",
      "|5071          |4441.466456782385 |\n",
      "|737           |714.2430764661281 |\n",
      "|2486          |2513.678334824791 |\n",
      "|1070          |1119.969374382043 |\n",
      "|312           |349.193846904184  |\n",
      "|256           |314.691059190505  |\n",
      "|4360          |4757.214634839706 |\n",
      "|3504          |3161.167598348907 |\n",
      "|3067          |3005.897810297645 |\n",
      "|334           |334.1103630207743 |\n",
      "|4453          |4670.725485815148 |\n",
      "|1129          |1248.9184797360092|\n",
      "|744           |774.256047718925  |\n",
      "|209           |269.68270185135896|\n",
      "|443           |449.9846956831297 |\n",
      "|694           |663.4131839663634 |\n",
      "|754           |814.1808914280161 |\n",
      "|759           |757.1080072600431 |\n",
      "+--------------+------------------+\n",
      "only showing top 30 rows\n",
      "\n"
     ]
    }
   ],
   "source": [
    "gbt_prediction_train.select('traffic_volume', 'prediction').show(30, truncate=False)"
   ]
  },
  {
   "cell_type": "code",
   "execution_count": 38,
   "metadata": {},
   "outputs": [
    {
     "name": "stdout",
     "output_type": "stream",
     "text": [
      "+--------------+------------------+\n",
      "|traffic_volume|prediction        |\n",
      "+--------------+------------------+\n",
      "|678           |762.9390179491469 |\n",
      "|277           |279.6014873536222 |\n",
      "|1319          |1289.1505944423454|\n",
      "|194           |269.68270185135896|\n",
      "|723           |816.1042824899738 |\n",
      "|312           |321.3326885110711 |\n",
      "|2238          |2536.4849513340882|\n",
      "|383           |420.72746968064905|\n",
      "|1430          |1188.3359888494538|\n",
      "|1988          |1619.4867666679136|\n",
      "|2526          |2860.221682166172 |\n",
      "|3735          |4312.841609819084 |\n",
      "|2213          |1798.3147243946246|\n",
      "|1707          |1903.1084477970712|\n",
      "|4717          |5203.3189228021   |\n",
      "|2487          |2846.9531385415235|\n",
      "|5332          |5741.720781774761 |\n",
      "|3885          |4026.0263853366323|\n",
      "|3433          |3980.905893443798 |\n",
      "|683           |949.7076178650484 |\n",
      "|272           |314.691059190505  |\n",
      "|290           |195.052961647324  |\n",
      "|2494          |1929.589025271148 |\n",
      "|719           |754.3088820401828 |\n",
      "|686           |3560.6916736076364|\n",
      "|667           |719.9989356647301 |\n",
      "|269           |676.4411155625942 |\n",
      "|2582          |2482.6456998242074|\n",
      "|5506          |5063.169334607053 |\n",
      "|302           |334.1103630207743 |\n",
      "+--------------+------------------+\n",
      "only showing top 30 rows\n",
      "\n"
     ]
    }
   ],
   "source": [
    "gbt_prediction_val.select('traffic_volume', 'prediction').show(30, truncate=False)"
   ]
  },
  {
   "cell_type": "code",
   "execution_count": 39,
   "metadata": {},
   "outputs": [
    {
     "name": "stdout",
     "output_type": "stream",
     "text": [
      "+--------------+------------------+\n",
      "|traffic_volume|prediction        |\n",
      "+--------------+------------------+\n",
      "|417           |344.49632745607806|\n",
      "|1198          |1194.6190690054461|\n",
      "|2641          |2594.859547015237 |\n",
      "|341           |313.51202225124445|\n",
      "|3073          |3440.819069115108 |\n",
      "|396           |834.9791776952057 |\n",
      "|5654          |4870.642351453952 |\n",
      "|2124          |930.1257658475109 |\n",
      "|3046          |3379.077608784268 |\n",
      "|212           |249.08436108182912|\n",
      "|830           |379.09302876492586|\n",
      "|4596          |3939.2094093352966|\n",
      "|5032          |5086.341132449637 |\n",
      "|6106          |5269.771567588829 |\n",
      "|1436          |2407.621523205804 |\n",
      "|585           |268.94813781373875|\n",
      "|805           |2281.184926829558 |\n",
      "|2643          |2722.7723210350373|\n",
      "|737           |756.1527021168355 |\n",
      "|3832          |3636.767306495421 |\n",
      "|292           |396.6377968818442 |\n",
      "|2621          |3501.710154731893 |\n",
      "|1721          |1619.4867666679136|\n",
      "|2067          |2251.7100985357647|\n",
      "|2041          |1507.4022035657217|\n",
      "|5554          |4884.037517701696 |\n",
      "|255           |225.57985740036347|\n",
      "|660           |711.9900910988099 |\n",
      "|742           |678.2712893167616 |\n",
      "|4232          |4116.182139307969 |\n",
      "+--------------+------------------+\n",
      "only showing top 30 rows\n",
      "\n"
     ]
    }
   ],
   "source": [
    "gbt_prediction_test.select('traffic_volume', 'prediction').show(30, truncate=False)"
   ]
  },
  {
   "cell_type": "markdown",
   "metadata": {},
   "source": [
    "## __DEEP LEARNING MODEL EVALUATION__"
   ]
  },
  {
   "cell_type": "markdown",
   "metadata": {},
   "source": [
    "#### __Keras__ is used as the Deep Learning framework"
   ]
  },
  {
   "cell_type": "code",
   "execution_count": 40,
   "metadata": {},
   "outputs": [
    {
     "name": "stderr",
     "output_type": "stream",
     "text": [
      "Using TensorFlow backend.\n"
     ]
    }
   ],
   "source": [
    "from keras.models import Sequential\n",
    "from keras.layers import Dense\n",
    "\n",
    "# To be used in the custom metrics function\n",
    "from keras import backend as K\n",
    "\n",
    "# For the model compilation\n",
    "from keras.optimizers import Adam\n",
    "from keras import metrics"
   ]
  },
  {
   "cell_type": "markdown",
   "metadata": {},
   "source": [
    "First, let's load the saved Sequential model"
   ]
  },
  {
   "cell_type": "code",
   "execution_count": 41,
   "metadata": {},
   "outputs": [],
   "source": [
    "from keras.models import load_model"
   ]
  },
  {
   "cell_type": "code",
   "execution_count": 42,
   "metadata": {},
   "outputs": [
    {
     "name": "stdout",
     "output_type": "stream",
     "text": [
      "WARNING:tensorflow:From c:\\program files\\python37\\lib\\site-packages\\keras\\backend\\tensorflow_backend.py:541: The name tf.placeholder is deprecated. Please use tf.compat.v1.placeholder instead.\n",
      "\n",
      "WARNING:tensorflow:From c:\\program files\\python37\\lib\\site-packages\\keras\\backend\\tensorflow_backend.py:4432: The name tf.random_uniform is deprecated. Please use tf.random.uniform instead.\n",
      "\n",
      "WARNING:tensorflow:From c:\\program files\\python37\\lib\\site-packages\\keras\\backend\\tensorflow_backend.py:190: The name tf.get_default_session is deprecated. Please use tf.compat.v1.get_default_session instead.\n",
      "\n",
      "WARNING:tensorflow:From c:\\program files\\python37\\lib\\site-packages\\keras\\backend\\tensorflow_backend.py:197: The name tf.ConfigProto is deprecated. Please use tf.compat.v1.ConfigProto instead.\n",
      "\n",
      "WARNING:tensorflow:From c:\\program files\\python37\\lib\\site-packages\\keras\\backend\\tensorflow_backend.py:203: The name tf.Session is deprecated. Please use tf.compat.v1.Session instead.\n",
      "\n",
      "WARNING:tensorflow:From c:\\program files\\python37\\lib\\site-packages\\keras\\optimizers.py:793: The name tf.train.Optimizer is deprecated. Please use tf.compat.v1.train.Optimizer instead.\n",
      "\n",
      "Model: \"sequential_9\"\n",
      "_________________________________________________________________\n",
      "Layer (type)                 Output Shape              Param #   \n",
      "=================================================================\n",
      "dense_89 (Dense)             (None, 20)                220       \n",
      "_________________________________________________________________\n",
      "dense_90 (Dense)             (None, 512)               10752     \n",
      "_________________________________________________________________\n",
      "dense_91 (Dense)             (None, 256)               131328    \n",
      "_________________________________________________________________\n",
      "dense_92 (Dense)             (None, 128)               32896     \n",
      "_________________________________________________________________\n",
      "dense_93 (Dense)             (None, 64)                8256      \n",
      "_________________________________________________________________\n",
      "dense_94 (Dense)             (None, 32)                2080      \n",
      "_________________________________________________________________\n",
      "dense_95 (Dense)             (None, 64)                2112      \n",
      "_________________________________________________________________\n",
      "dense_96 (Dense)             (None, 16)                1040      \n",
      "_________________________________________________________________\n",
      "dense_97 (Dense)             (None, 8)                 136       \n",
      "_________________________________________________________________\n",
      "dense_98 (Dense)             (None, 4)                 36        \n",
      "_________________________________________________________________\n",
      "dense_99 (Dense)             (None, 1)                 5         \n",
      "=================================================================\n",
      "Total params: 188,861\n",
      "Trainable params: 188,861\n",
      "Non-trainable params: 0\n",
      "_________________________________________________________________\n"
     ]
    }
   ],
   "source": [
    "model = load_model('dl_full_model.h5')\n",
    "model.summary()"
   ]
  },
  {
   "cell_type": "markdown",
   "metadata": {},
   "source": [
    "Create arrays that correspond to the training and validation data sets"
   ]
  },
  {
   "cell_type": "code",
   "execution_count": 43,
   "metadata": {},
   "outputs": [],
   "source": [
    "# Create temporary dataframes\n",
    "X_train = df_train['temp_Norm', 'rain_1h_Norm', 'snow_1h_Norm', 'clouds_all_Norm', 'month_Norm', 'day_of_week_Norm',\n",
    "                'hour_of_day_Norm', 'holidayIndex_Norm', 'weatherMainIndex_Norm', 'weatherDescIndex_Norm']\n",
    "y_train = df_train[['traffic_volume_Norm']]\n",
    "X_val = df_val['temp_Norm', 'rain_1h_Norm', 'snow_1h_Norm', 'clouds_all_Norm', 'month_Norm', 'day_of_week_Norm',\n",
    "                'hour_of_day_Norm', 'holidayIndex_Norm', 'weatherMainIndex_Norm', 'weatherDescIndex_Norm']\n",
    "y_val = df_val[['traffic_volume_Norm']]\n",
    "X_test = df_test['temp_Norm', 'rain_1h_Norm', 'snow_1h_Norm', 'clouds_all_Norm', 'month_Norm', 'day_of_week_Norm',\n",
    "                'hour_of_day_Norm', 'holidayIndex_Norm', 'weatherMainIndex_Norm', 'weatherDescIndex_Norm']\n",
    "y_test = df_test[['traffic_volume_Norm']]"
   ]
  },
  {
   "cell_type": "code",
   "execution_count": 44,
   "metadata": {},
   "outputs": [],
   "source": [
    "# Create the corresponding arrays\n",
    "X_train.createOrReplaceTempView('X_train')\n",
    "X_train_arr = np.array(spark.sql('select * from X_train').collect())\n",
    "\n",
    "y_train.createOrReplaceTempView('y_train')\n",
    "y_train_arr = np.array(spark.sql('select * from y_train').collect())\n",
    "\n",
    "X_val.createOrReplaceTempView('X_val')\n",
    "X_val_arr = np.array(spark.sql('select * from X_val').collect())\n",
    "\n",
    "y_val.createOrReplaceTempView('y_val')\n",
    "y_val_arr = np.array(spark.sql('select * from y_val').collect())\n",
    "\n",
    "X_test.createOrReplaceTempView('X_test')\n",
    "X_test_arr = np.array(spark.sql('select * from X_test').collect())\n",
    "\n",
    "y_test.createOrReplaceTempView('y_test')\n",
    "y_test_arr = np.array(spark.sql('select * from y_test').collect())"
   ]
  },
  {
   "cell_type": "markdown",
   "metadata": {},
   "source": [
    "#### Let's see the evaluation metrics of the model on the training set and on the validation set."
   ]
  },
  {
   "cell_type": "code",
   "execution_count": 45,
   "metadata": {},
   "outputs": [
    {
     "name": "stdout",
     "output_type": "stream",
     "text": [
      "28194/28194 [==============================] - 2s 63us/step\n",
      "\tTraining data set evaluation Mean Squared Error: 0.001674305948712752\n",
      "\tTraining data set evaluation Mean Absolute Error: 0.025758778695021065\n"
     ]
    }
   ],
   "source": [
    "# Training data set\n",
    "score_train = model.evaluate(X_train_arr, y_train_arr)\n",
    "print('\\tTraining data set evaluation Mean Squared Error: {}'.format(score_train[1]))\n",
    "print('\\tTraining data set evaluation Mean Absolute Error: {}'.format(score_train[2]))"
   ]
  },
  {
   "cell_type": "code",
   "execution_count": 46,
   "metadata": {},
   "outputs": [
    {
     "name": "stdout",
     "output_type": "stream",
     "text": [
      "8266/8266 [==============================] - 0s 37us/step\n",
      "\tValidation data set evaluation Mean Squared Error: 0.004920967968805864\n",
      "\tValidation data set evaluation Mean Absolute Error: 0.03944782460252165\n"
     ]
    }
   ],
   "source": [
    "# Validation data set\n",
    "score_val = model.evaluate(X_val_arr, y_val_arr)\n",
    "print('\\tValidation data set evaluation Mean Squared Error: {}'.format(score_val[1]))\n",
    "print('\\tValidation data set evaluation Mean Absolute Error: {}'.format(score_val[2]))"
   ]
  },
  {
   "cell_type": "code",
   "execution_count": 47,
   "metadata": {},
   "outputs": [
    {
     "name": "stdout",
     "output_type": "stream",
     "text": [
      "4109/4109 [==============================] - 0s 36us/step\n",
      "\tTest data set evaluation Mean Squared Error: 0.004034162629620111\n",
      "\tTest data set evaluation Mean Absolute Error: 0.03744746143545481\n"
     ]
    }
   ],
   "source": [
    "# Test data set\n",
    "score_test = model.evaluate(X_test_arr, y_test_arr)\n",
    "print('\\tTest data set evaluation Mean Squared Error: {}'.format(score_test[1]))\n",
    "print('\\tTest data set evaluation Mean Absolute Error: {}'.format(score_test[2]))"
   ]
  },
  {
   "cell_type": "markdown",
   "metadata": {},
   "source": [
    "Let's now use __RSquared (r2)__ from scikit-learn to have another indication of how the model performs\n",
    "\n",
    "We will also have comparable results to the non deep learning algorithm"
   ]
  },
  {
   "cell_type": "code",
   "execution_count": 48,
   "metadata": {},
   "outputs": [],
   "source": [
    "from sklearn.metrics import r2_score"
   ]
  },
  {
   "cell_type": "markdown",
   "metadata": {},
   "source": [
    "On the _training_ set"
   ]
  },
  {
   "cell_type": "code",
   "execution_count": 49,
   "metadata": {},
   "outputs": [
    {
     "data": {
      "text/plain": [
       "0.9774717092136431"
      ]
     },
     "execution_count": 49,
     "metadata": {},
     "output_type": "execute_result"
    }
   ],
   "source": [
    "result = model.predict(X_train_arr)\n",
    "r2Score = r2_score(y_train_arr, result)\n",
    "r2Score"
   ]
  },
  {
   "cell_type": "markdown",
   "metadata": {},
   "source": [
    "On the _validation_ set"
   ]
  },
  {
   "cell_type": "code",
   "execution_count": 50,
   "metadata": {},
   "outputs": [
    {
     "data": {
      "text/plain": [
       "0.9337876428281736"
      ]
     },
     "execution_count": 50,
     "metadata": {},
     "output_type": "execute_result"
    }
   ],
   "source": [
    "result = model.predict(X_val_arr)\n",
    "r2Score = r2_score(y_val_arr, result)\n",
    "r2Score"
   ]
  },
  {
   "cell_type": "markdown",
   "metadata": {},
   "source": [
    "And on the _test_ set"
   ]
  },
  {
   "cell_type": "code",
   "execution_count": 51,
   "metadata": {},
   "outputs": [
    {
     "data": {
      "text/plain": [
       "0.945653176405038"
      ]
     },
     "execution_count": 51,
     "metadata": {},
     "output_type": "execute_result"
    }
   ],
   "source": [
    "result = model.predict(X_test_arr)\n",
    "r2Score = r2_score(y_test_arr, result)\n",
    "r2Score"
   ]
  },
  {
   "cell_type": "markdown",
   "metadata": {},
   "source": [
    "__The results of our deep learning algorithm are very similar to the ones of the non-deep learning one__"
   ]
  },
  {
   "cell_type": "markdown",
   "metadata": {},
   "source": [
    "### __DEEP LEARNING CROSS VALIDATION__\n",
    "As a final step, let's run cross-validation against our model to check how it performs on different combinations of training and validation data sets\n",
    "\n",
    "The model will be recreated and evaluated 3 times\n",
    "\n",
    "Create an array that correspond to the whole data set and one that corresponds to the target feature"
   ]
  },
  {
   "cell_type": "code",
   "execution_count": 52,
   "metadata": {},
   "outputs": [],
   "source": [
    "X_norm = df_norm['temp_Norm', 'rain_1h_Norm', 'snow_1h_Norm', 'clouds_all_Norm', 'month_Norm', 'day_of_week_Norm',\n",
    "                'hour_of_day_Norm', 'holidayIndex_Norm', 'weatherMainIndex_Norm', 'weatherDescIndex_Norm']\n",
    "X_norm.createOrReplaceTempView('X_norm')\n",
    "X_norm_arr = np.array(spark.sql('select * from X_norm').collect())\n",
    "\n",
    "y_norm = df_norm[['traffic_volume_Norm']]\n",
    "y_norm.createOrReplaceTempView('y_norm')\n",
    "y_norm_arr = np.array(spark.sql('select * from y_norm').collect())"
   ]
  },
  {
   "cell_type": "code",
   "execution_count": 53,
   "metadata": {},
   "outputs": [],
   "source": [
    "from keras.optimizers import Nadam\n",
    "from keras.initializers import VarianceScaling"
   ]
  },
  {
   "cell_type": "code",
   "execution_count": 54,
   "metadata": {},
   "outputs": [
    {
     "name": "stdout",
     "output_type": "stream",
     "text": [
      "12171/12171 [==============================] - 1s 47us/step\n",
      "mse: 0.004702664798880263 - mae: 0.039143725183794935\n",
      "12171/12171 [==============================] - 1s 55us/step\n",
      "mse: 0.00486332613605372 - mae: 0.03978744272955901\n",
      "12171/12171 [==============================] - 1s 65us/step\n",
      "mse: 0.005078908805910066 - mae: 0.04110468275853927\n"
     ]
    }
   ],
   "source": [
    "n_folds = 3\n",
    "optimizer = Nadam()\n",
    "kernel_initializer = VarianceScaling(distribution='uniform')\n",
    "\n",
    "for i in range(n_folds):\n",
    "    # Split data\n",
    "    X_train, X_val, y_train, y_val = train_test_split(X_norm_arr, y_norm_arr, test_size=0.30, \\\n",
    "                                                      random_state = np.random.randint(1, 1000, 1)[0])\n",
    "\n",
    "    # Redefine, compile and evaluate the model \n",
    "    cv_model = Sequential()\n",
    "    cv_model.add(Dense(20, input_shape=(10,), kernel_initializer=kernel_initializer, \\\n",
    "                       activation='relu'))\n",
    "    cv_model.add(Dense(512, kernel_initializer=kernel_initializer, activation='relu'))\n",
    "    cv_model.add(Dense(256, kernel_initializer=kernel_initializer, activation='relu'))\n",
    "    cv_model.add(Dense(128, kernel_initializer=kernel_initializer, activation='relu'))\n",
    "    cv_model.add(Dense(64, kernel_initializer=kernel_initializer, activation='relu'))\n",
    "    cv_model.add(Dense(32, kernel_initializer=kernel_initializer, activation='relu'))\n",
    "    cv_model.add(Dense(64, kernel_initializer=kernel_initializer, activation='relu'))\n",
    "    cv_model.add(Dense(16, kernel_initializer=kernel_initializer, activation='relu'))\n",
    "    cv_model.add(Dense(8, kernel_initializer=kernel_initializer, activation='relu'))\n",
    "    cv_model.add(Dense(4, kernel_initializer=kernel_initializer, activation='relu'))\n",
    "    cv_model.add(Dense(1, kernel_initializer=kernel_initializer, activation='linear'))\n",
    "\n",
    "    cv_model.compile(loss='mse', optimizer=optimizer, metrics=['mse', 'mae'])\n",
    "\n",
    "    cv_model.fit(X_train, y_train, epochs=300, batch_size=127, verbose=0)\n",
    "    \n",
    "    score = cv_model.evaluate(X_val, y_val)\n",
    "    print('mse: {} - mae: {}'.format(score[1], score[2]))\n",
    "    del cv_model"
   ]
  },
  {
   "cell_type": "markdown",
   "metadata": {},
   "source": [
    "Again, the results of the cross-validation on the validation data sets are __very similar__ to the evaluation metrics of our saved model"
   ]
  },
  {
   "cell_type": "markdown",
   "metadata": {},
   "source": [
    "#### Let's see some actual results from our algorithm on all three data sets with treir corresponding actual values\n",
    "\n",
    "We will use the inverse_transform function of sklearn.preprocessing.MinMaxScaler"
   ]
  },
  {
   "cell_type": "code",
   "execution_count": 55,
   "metadata": {},
   "outputs": [],
   "source": [
    "import pandas as pd\n",
    "from sklearn.preprocessing import MinMaxScaler as skMinMax"
   ]
  },
  {
   "cell_type": "code",
   "execution_count": 56,
   "metadata": {},
   "outputs": [
    {
     "data": {
      "text/plain": [
       "MinMaxScaler(copy=True, feature_range=(0, 1))"
      ]
     },
     "execution_count": 56,
     "metadata": {},
     "output_type": "execute_result"
    }
   ],
   "source": [
    "# Create a spark data frame from the actual value of traffic_volume\n",
    "df_norm = spark.read.parquet('traffic_volume_df_norm.parquet')\n",
    "df_norm.createOrReplaceTempView('df_norm')\n",
    "y_actual_arr = np.array(spark.sql('select traffic_volume from df_norm').collect())\n",
    "\n",
    "# Create a MinMaxScaler from sklearn.preprocessing and fit it to the actual traffic_volume\n",
    "mmScaler = skMinMax()\n",
    "mmScaler.fit(y_actual_arr)"
   ]
  },
  {
   "cell_type": "markdown",
   "metadata": {},
   "source": [
    "Training data set"
   ]
  },
  {
   "cell_type": "code",
   "execution_count": 57,
   "metadata": {},
   "outputs": [
    {
     "name": "stdout",
     "output_type": "stream",
     "text": [
      "+------+------------------+\n",
      "|actual|predicted         |\n",
      "+------+------------------+\n",
      "|1462.0|1437.88818359375  |\n",
      "|1037.0|962.121826171875  |\n",
      "|800.0 |694.4655151367188 |\n",
      "|354.0 |385.0582580566406 |\n",
      "|459.0 |466.1631774902344 |\n",
      "|1909.0|1787.2742919921875|\n",
      "|2689.0|2636.73876953125  |\n",
      "|472.0 |412.7055969238281 |\n",
      "|2384.0|2318.844482421875 |\n",
      "|3706.0|2365.939208984375 |\n",
      "|4611.0|4802.21044921875  |\n",
      "|4748.0|4701.0068359375   |\n",
      "|5071.0|5076.34375        |\n",
      "|737.0 |781.7797241210938 |\n",
      "|2486.0|2605.551513671875 |\n",
      "|1070.0|947.4486694335938 |\n",
      "|312.0 |253.3040771484375 |\n",
      "|256.0 |301.6612854003906 |\n",
      "|4360.0|4562.03515625     |\n",
      "|3504.0|3535.22265625     |\n",
      "|3067.0|2792.346923828125 |\n",
      "|334.0 |370.67510986328125|\n",
      "|4453.0|4668.5244140625   |\n",
      "|1129.0|1051.002197265625 |\n",
      "|744.0 |860.716796875     |\n",
      "|209.0 |260.59814453125   |\n",
      "|443.0 |427.1110534667969 |\n",
      "|694.0 |547.486328125     |\n",
      "|754.0 |743.773681640625  |\n",
      "|759.0 |659.431396484375  |\n",
      "+------+------------------+\n",
      "only showing top 30 rows\n",
      "\n"
     ]
    }
   ],
   "source": [
    "y_train_actual = df_train[['traffic_volume']]\n",
    "y_train_actual.createOrReplaceTempView('y_val_actual')\n",
    "y_train_actual_arr = np.array(spark.sql('select traffic_volume from y_val_actual').collect())\n",
    "\n",
    "# Get the predictions of model on the training data set and inverse transform using the MinMaxScaler\n",
    "pred_train = mmScaler.inverse_transform(model.predict(X_train_arr))\n",
    "\n",
    "# Create a spark data frame with the actual and predicted values\n",
    "train_comp_arr = np.concatenate((y_train_actual_arr, pred_train), axis=1)\n",
    "train_comp_df = spark.createDataFrame(pd.DataFrame(train_comp_arr, columns=list(['actual', 'predicted'])))\n",
    "\n",
    "# Show some values\n",
    "train_comp_df.show(30, truncate=False)"
   ]
  },
  {
   "cell_type": "markdown",
   "metadata": {},
   "source": [
    "Validation data set"
   ]
  },
  {
   "cell_type": "code",
   "execution_count": 58,
   "metadata": {},
   "outputs": [
    {
     "name": "stdout",
     "output_type": "stream",
     "text": [
      "+------+------------------+\n",
      "|actual|predicted         |\n",
      "+------+------------------+\n",
      "|678.0 |568.4520263671875 |\n",
      "|277.0 |301.69219970703125|\n",
      "|1319.0|1463.9365234375   |\n",
      "|194.0 |259.5902404785156 |\n",
      "|723.0 |755.0590209960938 |\n",
      "|312.0 |341.1545715332031 |\n",
      "|2238.0|2499.9951171875   |\n",
      "|383.0 |412.2965393066406 |\n",
      "|1430.0|909.1919555664062 |\n",
      "|1988.0|1254.4119873046875|\n",
      "|2526.0|3720.16796875     |\n",
      "|3735.0|4828.93994140625  |\n",
      "|2213.0|2362.77685546875  |\n",
      "|1707.0|1649.9310302734375|\n",
      "|4717.0|4972.2392578125   |\n",
      "|2487.0|2805.4306640625   |\n",
      "|5332.0|5036.85791015625  |\n",
      "|3885.0|4184.6796875      |\n",
      "|3433.0|3729.0234375      |\n",
      "|683.0 |688.7079467773438 |\n",
      "|272.0 |292.059814453125  |\n",
      "|290.0 |394.8498840332031 |\n",
      "|2494.0|2002.3751220703125|\n",
      "|719.0 |767.3519897460938 |\n",
      "|686.0 |649.4708251953125 |\n",
      "|667.0 |691.5983276367188 |\n",
      "|269.0 |596.1168212890625 |\n",
      "|2582.0|2590.03369140625  |\n",
      "|5506.0|5320.95166015625  |\n",
      "|302.0 |374.4152526855469 |\n",
      "+------+------------------+\n",
      "only showing top 30 rows\n",
      "\n"
     ]
    }
   ],
   "source": [
    "y_val_actual = df_val[['traffic_volume']]\n",
    "y_val_actual.createOrReplaceTempView('y_val_actual')\n",
    "y_val_actual_arr = np.array(spark.sql('select traffic_volume from y_val_actual').collect())\n",
    "\n",
    "# Get the predictions of model on the valing data set and inverse transform using the MinMaxScaler\n",
    "pred_val = mmScaler.inverse_transform(model.predict(X_val_arr))\n",
    "\n",
    "# Create a spark data frame with the actual and predicted values\n",
    "val_comp_arr = np.concatenate((y_val_actual_arr, pred_val), axis=1)\n",
    "val_comp_df = spark.createDataFrame(pd.DataFrame(val_comp_arr, columns=list(['actual', 'predicted'])))\n",
    "\n",
    "# Show some values\n",
    "val_comp_df.show(30, truncate=False)"
   ]
  },
  {
   "cell_type": "markdown",
   "metadata": {},
   "source": [
    "Test data set"
   ]
  },
  {
   "cell_type": "code",
   "execution_count": 59,
   "metadata": {},
   "outputs": [
    {
     "name": "stdout",
     "output_type": "stream",
     "text": [
      "+------+------------------+\n",
      "|actual|predicted         |\n",
      "+------+------------------+\n",
      "|417.0 |425.2293701171875 |\n",
      "|1198.0|1014.9075317382812|\n",
      "|2641.0|3479.89453125     |\n",
      "|341.0 |418.23907470703125|\n",
      "|3073.0|3642.2998046875   |\n",
      "|396.0 |572.741455078125  |\n",
      "|5654.0|5325.19091796875  |\n",
      "|2124.0|392.3260192871094 |\n",
      "|3046.0|3293.327392578125 |\n",
      "|212.0 |241.93966674804688|\n",
      "|830.0 |413.26055908203125|\n",
      "|4596.0|2375.33349609375  |\n",
      "|5032.0|5412.7802734375   |\n",
      "|6106.0|5107.658203125    |\n",
      "|1436.0|1645.2247314453125|\n",
      "|585.0 |359.8426818847656 |\n",
      "|805.0 |2155.146240234375 |\n",
      "|2643.0|2671.373291015625 |\n",
      "|737.0 |678.7713012695312 |\n",
      "|3832.0|2496.06396484375  |\n",
      "|292.0 |263.18658447265625|\n",
      "|2621.0|2922.573486328125 |\n",
      "|1721.0|1336.5950927734375|\n",
      "|2067.0|2241.939208984375 |\n",
      "|2041.0|1622.156005859375 |\n",
      "|5554.0|5090.59326171875  |\n",
      "|255.0 |288.91290283203125|\n",
      "|660.0 |703.1419067382812 |\n",
      "|742.0 |551.9037475585938 |\n",
      "|4232.0|4996.39208984375  |\n",
      "+------+------------------+\n",
      "only showing top 30 rows\n",
      "\n"
     ]
    }
   ],
   "source": [
    "y_test_actual = df_test[['traffic_volume']]\n",
    "y_test_actual.createOrReplaceTempView('y_test_actual')\n",
    "y_test_actual_arr = np.array(spark.sql('select traffic_volume from y_test_actual').collect())\n",
    "\n",
    "# Get the predictions of model on the testing data set and inverse transform using the MinMaxScaler\n",
    "pred_test = mmScaler.inverse_transform(model.predict(X_test_arr))\n",
    "\n",
    "# Create a spark data frame with the actual and predicted testues\n",
    "test_comp_arr = np.concatenate((y_test_actual_arr, pred_test), axis=1)\n",
    "test_comp_df = spark.createDataFrame(pd.DataFrame(test_comp_arr, columns=list(['actual', 'predicted'])))\n",
    "\n",
    "# Show some testues\n",
    "test_comp_df.show(30, truncate=False)"
   ]
  },
  {
   "cell_type": "markdown",
   "metadata": {},
   "source": [
    "## __Summary__"
   ]
  },
  {
   "cell_type": "markdown",
   "metadata": {},
   "source": [
    "In this __evaluation__ step the non deep learning and a deep leerning algorithm for our non-linear regression problem were evaluated. \n",
    "\n",
    "In the case of the non deep learning algorithm, the model was slightly changed to prevent __overfitting__ the data. In particular, __the maxDepth hyperparameter was changed to 9__\n",
    "\n",
    "The algorithms were also cross-validated against different combinations of training and validation data sets and the results were very similar.\n",
    "\n",
    "Also some examples of actual values and the corresponding predictions were presented"
   ]
  }
 ],
 "metadata": {
  "kernelspec": {
   "display_name": "Python 3",
   "language": "python",
   "name": "python3"
  },
  "language_info": {
   "codemirror_mode": {
    "name": "ipython",
    "version": 3
   },
   "file_extension": ".py",
   "mimetype": "text/x-python",
   "name": "python",
   "nbconvert_exporter": "python",
   "pygments_lexer": "ipython3",
   "version": "3.7.4"
  },
  "widgets": {
   "application/vnd.jupyter.widget-state+json": {
    "state": {},
    "version_major": 2,
    "version_minor": 0
   }
  }
 },
 "nbformat": 4,
 "nbformat_minor": 4
}
